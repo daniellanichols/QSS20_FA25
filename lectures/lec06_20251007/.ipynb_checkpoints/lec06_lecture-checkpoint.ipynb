{
 "cells": [
  {
   "cell_type": "code",
   "execution_count": 5,
   "id": "dfa950d8",
   "metadata": {
    "slideshow": {
     "slide_type": "skip"
    },
    "tags": []
   },
   "outputs": [],
   "source": [
    "from lec_utils import *\n",
    "def show_merging_animation():\n",
    "    src = \"https://docs.google.com/presentation/d/1HPJ7fiBLNEURsWYiY0qpqPR3qup68Mr0_B34GU99Y8Q/embed?start=false&loop=false&delayms=60000&rm=minimal\"\n",
    "    width = 865\n",
    "    height = 509\n",
    "    display(IFrame(src, width, height))"
   ]
  },
  {
   "cell_type": "markdown",
   "id": "d57258ca",
   "metadata": {
    "slideshow": {
     "slide_type": "slide"
    },
    "tags": []
   },
   "source": [
    "<div class=\"alert alert-info\" markdown=\"1\">\n",
    "\n",
    "#### Lecture 6\n",
    "\n",
    "# Aggregation: Reshaping and Merging\n",
    "\n",
    "### QSS 20, Fall 2025\n",
    "    \n",
    "</div>"
   ]
  },
  {
   "cell_type": "markdown",
   "id": "d21de631",
   "metadata": {
    "slideshow": {
     "slide_type": "slide"
    }
   },
   "source": [
    "### Example: Palmer Penguins\n",
    "\n",
    "<center><img src=\"imgs/lter_penguins.png\" width=60%>\n",
    "<i><a href=\"https://github.com/allisonhorst/palmerpenguins/blob/main/README.md\">Artwork by @allison_horst</a></i>\n",
    "\n",
    "</center>\n",
    "\n",
    "The dataset we'll work with for the rest of the lecture involves various measurements taken of three species of penguins in Antarctica."
   ]
  },
  {
   "cell_type": "code",
   "execution_count": 6,
   "id": "7db8b397",
   "metadata": {
    "slideshow": {
     "slide_type": "slide"
    }
   },
   "outputs": [
    {
     "data": {
      "text/html": [
       "\n",
       "        <iframe\n",
       "            width=\"560\"\n",
       "            height=\"315\"\n",
       "            src=\"https://www.youtube-nocookie.com/embed/CCrNAHXUstU?si=-DntSyUNp5Kwitjm&amp;start=11\"\n",
       "            frameborder=\"0\"\n",
       "            allowfullscreen\n",
       "            \n",
       "        ></iframe>\n",
       "        "
      ],
      "text/plain": [
       "<IPython.lib.display.IFrame at 0x165477fb0>"
      ]
     },
     "execution_count": 6,
     "metadata": {},
     "output_type": "execute_result"
    }
   ],
   "source": [
    "IFrame('https://www.youtube-nocookie.com/embed/CCrNAHXUstU?si=-DntSyUNp5Kwitjm&amp;start=11',\n",
    "       width=560, height=315)"
   ]
  },
  {
   "cell_type": "markdown",
   "id": "bf9a0b46",
   "metadata": {
    "slideshow": {
     "slide_type": "slide"
    }
   },
   "source": [
    "### Loading the data"
   ]
  },
  {
   "cell_type": "code",
   "execution_count": null,
   "id": "142eb785",
   "metadata": {
    "slideshow": {
     "slide_type": "-"
    }
   },
   "outputs": [],
   "source": [
    "penguins = pd.read_csv('../../public_data/penguins.csv')\n",
    "penguins"
   ]
  },
  {
   "cell_type": "markdown",
   "id": "bf78d3ec",
   "metadata": {
    "slideshow": {
     "slide_type": "fragment"
    }
   },
   "source": [
    "- Here, each row corresponds to a single penguin, and each column corresponds to a different attribute (or feature) we have for each penguin."
   ]
  },
  {
   "cell_type": "markdown",
   "id": "cfb997e9",
   "metadata": {
    "slideshow": {
     "slide_type": "fragment"
    }
   },
   "source": [
    "- Data formatted in this way is sometimes called [tidy data](https://r4ds.had.co.nz/tidy-data.html)."
   ]
  },
  {
   "cell_type": "markdown",
   "id": "37c0e5e3",
   "metadata": {
    "slideshow": {
     "slide_type": "slide"
    }
   },
   "source": [
    "### Visualizing the data"
   ]
  },
  {
   "cell_type": "code",
   "execution_count": null,
   "id": "166a51ec",
   "metadata": {},
   "outputs": [],
   "source": [
    "penguins.plot(\n",
    "    kind=\"scatter\",\n",
    "    x=\"bill_length_mm\",\n",
    "    y=\"body_mass_g\",\n",
    "    color=\"species\",\n",
    "    title=\"Body Mass vs. Bill Length\",\n",
    ")"
   ]
  },
  {
   "cell_type": "markdown",
   "id": "de9be66a",
   "metadata": {
    "slideshow": {
     "slide_type": "slide"
    }
   },
   "source": [
    "#### Warmup: What is the mean `'body_mass_g'` for all penguins?"
   ]
  },
  {
   "cell_type": "code",
   "execution_count": null,
   "id": "d76b0a4a",
   "metadata": {},
   "outputs": [],
   "source": [
    "penguins.head()"
   ]
  },
  {
   "cell_type": "code",
   "execution_count": null,
   "id": "b8a9d6ed",
   "metadata": {
    "slideshow": {
     "slide_type": "fragment"
    }
   },
   "outputs": [],
   "source": [
    "penguins['body_mass_g'].mean() "
   ]
  },
  {
   "cell_type": "markdown",
   "id": "1619bf81",
   "metadata": {
    "slideshow": {
     "slide_type": "slide"
    }
   },
   "source": [
    "#### Warmup: What is the mean `'body_mass_g'` **for each `'species'`**?"
   ]
  },
  {
   "cell_type": "code",
   "execution_count": null,
   "id": "3c702361",
   "metadata": {
    "slideshow": {
     "slide_type": "-"
    }
   },
   "outputs": [],
   "source": [
    "penguins.head()"
   ]
  },
  {
   "cell_type": "code",
   "execution_count": null,
   "id": "fd66eb69",
   "metadata": {
    "slideshow": {
     "slide_type": "fragment"
    }
   },
   "outputs": [],
   "source": [
    "# To find the mean 'body_mass_g' for each 'species':\n",
    "penguins.groupby('species')['body_mass_g'].mean() "
   ]
  },
  {
   "cell_type": "markdown",
   "id": "8cb5d3aa",
   "metadata": {
    "slideshow": {
     "slide_type": "slide"
    }
   },
   "source": [
    "### Reminder: Column independence"
   ]
  },
  {
   "cell_type": "markdown",
   "id": "7fd6a000",
   "metadata": {
    "slideshow": {
     "slide_type": "fragment"
    }
   },
   "source": [
    "- As we've seen, within each group, the aggregation method is applied to **each column independently**."
   ]
  },
  {
   "cell_type": "code",
   "execution_count": null,
   "id": "d129875c",
   "metadata": {},
   "outputs": [],
   "source": [
    "penguins.groupby('species').max()"
   ]
  },
  {
   "cell_type": "markdown",
   "id": "be6572d2",
   "metadata": {
    "slideshow": {
     "slide_type": "fragment"
    }
   },
   "source": [
    "- The above result **is not** telling us that there is a `'Adelie'` penguin with a `'body_mass_g'` of `4775.0` that lived on `'Torgersen'` island."
   ]
  },
  {
   "cell_type": "code",
   "execution_count": null,
   "id": "40953391",
   "metadata": {},
   "outputs": [],
   "source": [
    "# This penguin lived on Biscoe island!\n",
    "penguins.loc[(penguins['species'] == 'Adelie') & (penguins['body_mass_g'] == 4775.0)]"
   ]
  },
  {
   "cell_type": "markdown",
   "id": "36005314",
   "metadata": {
    "slideshow": {
     "slide_type": "slide"
    }
   },
   "source": [
    "### `agg` with a custom aggregation method"
   ]
  },
  {
   "cell_type": "markdown",
   "id": "045a1d4b",
   "metadata": {
    "slideshow": {
     "slide_type": "fragment"
    }
   },
   "source": [
    "- **Example**: What is the **second largest** recorded `'body_mass_g'` for each `'species'`?"
   ]
  },
  {
   "cell_type": "code",
   "execution_count": null,
   "id": "0c8fc4f5",
   "metadata": {},
   "outputs": [],
   "source": [
    "# Here, the argument to agg is a function,\n",
    "# which takes in a Series and returns a scalar.\n",
    "def second_largest(s):\n",
    "    return s.sort_values().iloc[-2]\n",
    "(\n",
    "    penguins\n",
    "    .groupby('species')\n",
    "    ['body_mass_g']\n",
    "    .agg(second_largest)\n",
    ")"
   ]
  },
  {
   "cell_type": "markdown",
   "id": "0a2214ef",
   "metadata": {
    "slideshow": {
     "slide_type": "fragment"
    }
   },
   "source": [
    "- Note: If you give `agg` a custom function, it should map $\\texttt{Series} \\rightarrow \\texttt{number}$.    "
   ]
  },
  {
   "cell_type": "code",
   "execution_count": null,
   "id": "a35b98c2",
   "metadata": {},
   "outputs": [],
   "source": [
    "# How to write this without *defining* a function, if we won't use it again?\n",
    "\n",
    "\n"
   ]
  },
  {
   "cell_type": "markdown",
   "id": "650c932f",
   "metadata": {
    "slideshow": {
     "slide_type": "slide"
    }
   },
   "source": [
    "### Grouping with multiple columns"
   ]
  },
  {
   "cell_type": "markdown",
   "id": "22eb703f",
   "metadata": {
    "slideshow": {
     "slide_type": "fragment"
    }
   },
   "source": [
    "- When we group with multiple columns, one group is created for **every unique combination** of elements in the specified columns.<br><small>In the output below, why are there only 5 rows, rather than $3 \\times 3 = 9$ rows, when there are 3 unique `'species'` and 3 unique `'island'`s?</small>"
   ]
  },
  {
   "cell_type": "code",
   "execution_count": null,
   "id": "f9af0e50",
   "metadata": {
    "slideshow": {
     "slide_type": "fragment"
    }
   },
   "outputs": [],
   "source": [
    "# Read this as:\n",
    "species_and_island = (\n",
    "    penguins.groupby(['species', 'island'])         # for every combination of 'species' and 'island' in the DataFrame,\n",
    "    [['bill_length_mm', 'bill_depth_mm']].mean()    # calculate the mean 'bill_length_mm' and the mean 'bill_depth_mm'.\n",
    ")\n",
    "species_and_island"
   ]
  },
  {
   "cell_type": "markdown",
   "id": "283ab490",
   "metadata": {
    "slideshow": {
     "slide_type": "fragment"
    }
   },
   "source": [
    "- **Advice**: When grouping on multiple columns, the result usually has a `MultiIndex`;  use `reset_index` or set `as_index=False` in `groupby` to avoid this."
   ]
  },
  {
   "cell_type": "code",
   "execution_count": null,
   "id": "bfd9899f",
   "metadata": {},
   "outputs": [],
   "source": [
    "# Now, this looks like a regular DataFrame!\n",
    "species_and_island.reset_index() "
   ]
  },
  {
   "cell_type": "code",
   "execution_count": null,
   "id": "a6c9baba",
   "metadata": {
    "slideshow": {
     "slide_type": "fragment"
    }
   },
   "outputs": [],
   "source": [
    "# What about the mean 'body_mass_g' for each 'species' and 'sex'?\n",
    "(\n",
    "    penguins.groupby(['species', 'sex'])\n",
    "    [['body_mass_g']].mean()\n",
    ")"
   ]
  },
  {
   "cell_type": "markdown",
   "id": "bcf20519",
   "metadata": {
    "slideshow": {
     "slide_type": "slide"
    }
   },
   "source": [
    "## Pivot tables using `pivot_table`\n",
    "\n",
    "---"
   ]
  },
  {
   "cell_type": "markdown",
   "id": "496732d6",
   "metadata": {
    "slideshow": {
     "slide_type": "slide"
    }
   },
   "source": [
    "### Pivot tables: An extension of grouping"
   ]
  },
  {
   "cell_type": "markdown",
   "id": "06bc053d",
   "metadata": {
    "slideshow": {
     "slide_type": "fragment"
    }
   },
   "source": [
    "- Pivot tables are a compact way to display tables for humans to read.\n",
    "\n",
    "<table border=\"1\" class=\"dataframe\">\n",
    "  <thead>\n",
    "    <tr style=\"text-align: right;\">\n",
    "      <th>sex</th>\n",
    "      <th>Female</th>\n",
    "      <th>Male</th>\n",
    "    </tr>\n",
    "    <tr>\n",
    "      <th>species</th>\n",
    "      <th></th>\n",
    "      <th></th>\n",
    "    </tr>\n",
    "  </thead>\n",
    "  <tbody>\n",
    "    <tr>\n",
    "      <th>Adelie</th>\n",
    "      <td>3368.84</td>\n",
    "      <td>4043.49</td>\n",
    "    </tr>\n",
    "    <tr>\n",
    "      <th>Chinstrap</th>\n",
    "      <td>3527.21</td>\n",
    "      <td>3938.97</td>\n",
    "    </tr>\n",
    "    <tr>\n",
    "      <th>Gentoo</th>\n",
    "      <td>4679.74</td>\n",
    "      <td>5484.84</td>\n",
    "    </tr>\n",
    "  </tbody>\n",
    "</table>\n"
   ]
  },
  {
   "cell_type": "markdown",
   "id": "aeff607a",
   "metadata": {
    "slideshow": {
     "slide_type": "fragment"
    }
   },
   "source": [
    "- Notice that each value in the table is the average of `'body_mass_g'` of penguins, for every combination of `'species'` and `'sex'`."
   ]
  },
  {
   "cell_type": "markdown",
   "id": "bc94118c",
   "metadata": {
    "slideshow": {
     "slide_type": "fragment"
    }
   },
   "source": [
    "- **You can think of pivot tables as grouping using two columns, then \"pivoting\" one of the group labels into columns.**"
   ]
  },
  {
   "cell_type": "markdown",
   "id": "a89f78f7",
   "metadata": {
    "slideshow": {
     "slide_type": "slide"
    }
   },
   "source": [
    "### `pivot_table`"
   ]
  },
  {
   "cell_type": "markdown",
   "id": "c21fc231",
   "metadata": {
    "slideshow": {
     "slide_type": "fragment"
    }
   },
   "source": [
    "- The `pivot_table` DataFrame method aggregates a DataFrame using two columns. To use it:\n",
    "<br><br>\n",
    "```python\n",
    "        df.pivot_table(index=index_col,\n",
    "                       columns=columns_col,\n",
    "                       values=values_col,\n",
    "                       aggfunc=func)\n",
    "```"
   ]
  },
  {
   "cell_type": "markdown",
   "id": "7d56ad9c",
   "metadata": {
    "slideshow": {
     "slide_type": "fragment"
    }
   },
   "source": [
    "- The resulting DataFrame will have:\n",
    "    - One row for every unique value in `index_col`.\n",
    "    - One column for every unique value in `columns_col`.\n",
    "    - Values determined by applying `func` on values in `values_col`."
   ]
  },
  {
   "cell_type": "markdown",
   "id": "dcbe8ac3",
   "metadata": {
    "slideshow": {
     "slide_type": "fragment"
    }
   },
   "source": [
    "- **Example**: Find the average `'body_mass_g'` for every combination of `'species'` and `'sex'`."
   ]
  },
  {
   "cell_type": "code",
   "execution_count": null,
   "id": "7000fbe8",
   "metadata": {
    "scrolled": true,
    "slideshow": {
     "slide_type": ""
    }
   },
   "outputs": [],
   "source": [
    "penguins.pivot_table(\n",
    "    index='species',\n",
    "    columns='sex',\n",
    "    values='body_mass_g',\n",
    "    aggfunc='mean'\n",
    ")"
   ]
  },
  {
   "cell_type": "code",
   "execution_count": null,
   "id": "03a547b0",
   "metadata": {},
   "outputs": [],
   "source": [
    "# Same information as above, but harder to read!\n",
    "(\n",
    "    penguins\n",
    "    .groupby(['species', 'sex'])\n",
    "    [['body_mass_g']]\n",
    "    .mean()\n",
    ")"
   ]
  },
  {
   "cell_type": "markdown",
   "id": "458bee6a",
   "metadata": {
    "slideshow": {
     "slide_type": "slide"
    }
   },
   "source": [
    "### Example: Finding the number of penguins per `'island'` and `'species'`"
   ]
  },
  {
   "cell_type": "code",
   "execution_count": null,
   "id": "8d28cb10",
   "metadata": {},
   "outputs": [],
   "source": [
    "penguins"
   ]
  },
  {
   "cell_type": "markdown",
   "id": "a3c644bd",
   "metadata": {
    "slideshow": {
     "slide_type": "fragment"
    }
   },
   "source": [
    "- Suppose we want to find the number of penguins in `penguins` per `'island'` and `'species'`. We can do so _without_ `pivot_table`:"
   ]
  },
  {
   "cell_type": "code",
   "execution_count": null,
   "id": "9a8ddf03",
   "metadata": {},
   "outputs": [],
   "source": [
    "penguins.value_counts(['island', 'species']) "
   ]
  },
  {
   "cell_type": "code",
   "execution_count": null,
   "id": "69cfb31d",
   "metadata": {},
   "outputs": [],
   "source": [
    "penguins.groupby(['island', 'species']).size() "
   ]
  },
  {
   "cell_type": "markdown",
   "id": "6c4e74cb",
   "metadata": {
    "slideshow": {
     "slide_type": "fragment"
    }
   },
   "source": [
    "- But the data is arguably easier to interpret when we do use `pivot_table`:"
   ]
  },
  {
   "cell_type": "code",
   "execution_count": null,
   "id": "3b8e93bb",
   "metadata": {},
   "outputs": [],
   "source": [
    "penguins.pivot_table(\n",
    "    index='species', \n",
    "    columns='island', \n",
    "    values='bill_length_mm', # Choice of column here doesn't actually matter! Why?\n",
    "    aggfunc='count',\n",
    ")"
   ]
  },
  {
   "cell_type": "markdown",
   "id": "d4ab37ac",
   "metadata": {
    "slideshow": {
     "slide_type": "fragment"
    }
   },
   "source": [
    "- Note that there is a `NaN` at the intersection of `'Biscoe'` and `'Chinstrap'`, because there were no Chinstrap penguins on Biscoe Island.<br><small>`NaN` stands for \"not a number.\" It is `numpy` and `pandas`' version of a null value (the regular Python null value is `None`). </small>"
   ]
  },
  {
   "cell_type": "markdown",
   "id": "003d2582",
   "metadata": {
    "slideshow": {
     "slide_type": "fragment"
    }
   },
   "source": [
    "- We can either use the `fillna` method afterwards or the `fill_value` argument to fill in `NaN`s."
   ]
  },
  {
   "cell_type": "code",
   "execution_count": null,
   "id": "1cafeb1a",
   "metadata": {},
   "outputs": [],
   "source": [
    "penguins.pivot_table(\n",
    "    index='species', \n",
    "    columns='island', \n",
    "    values='bill_length_mm', \n",
    "    aggfunc='count',\n",
    "    fill_value=0,\n",
    ")"
   ]
  },
  {
   "cell_type": "markdown",
   "id": "ee72e7f2",
   "metadata": {
    "slideshow": {
     "slide_type": "slide"
    }
   },
   "source": [
    "### Granularity"
   ]
  },
  {
   "cell_type": "markdown",
   "id": "a9143bfc",
   "metadata": {
    "slideshow": {
     "slide_type": "fragment"
    }
   },
   "source": [
    "- Each row of the original `penguins` DataFrame represented a single penguin, and each column represented features of the penguins."
   ]
  },
  {
   "cell_type": "code",
   "execution_count": null,
   "id": "7a57444f",
   "metadata": {},
   "outputs": [],
   "source": [
    "penguins"
   ]
  },
  {
   "cell_type": "markdown",
   "id": "e7997cb0",
   "metadata": {
    "slideshow": {
     "slide_type": "fragment"
    }
   },
   "source": [
    "- What is the **granularity** of the DataFrame below?<br><small>That is, what does each row represent?</small>"
   ]
  },
  {
   "cell_type": "code",
   "execution_count": null,
   "id": "e4c428fc",
   "metadata": {},
   "outputs": [],
   "source": [
    "penguins.pivot_table(\n",
    "    index='species', \n",
    "    columns='island', \n",
    "    values='bill_length_mm', \n",
    "    aggfunc='count',\n",
    "    fill_value=0,\n",
    ")"
   ]
  },
  {
   "cell_type": "markdown",
   "id": "17c58b0b",
   "metadata": {
    "slideshow": {
     "slide_type": "slide"
    }
   },
   "source": [
    "### Reshaping"
   ]
  },
  {
   "cell_type": "markdown",
   "id": "428b5814",
   "metadata": {
    "slideshow": {
     "slide_type": "fragment"
    }
   },
   "source": [
    "- `pivot_table` reshapes DataFrames from \"long\" to \"wide\"."
   ]
  },
  {
   "cell_type": "markdown",
   "id": "3a48602a",
   "metadata": {
    "slideshow": {
     "slide_type": "fragment"
    }
   },
   "source": [
    "- `melt` unpivots a DataFrames from \"wide\" to \"long\"."
   ]
  },
  {
   "cell_type": "markdown",
   "id": "d5f3a7ef",
   "metadata": {
    "slideshow": {
     "slide_type": "fragment"
    }
   },
   "source": [
    "- Google, the documentation, and ChatGPT are your friends!"
   ]
  },
  {
   "cell_type": "code",
   "execution_count": null,
   "id": "ee5286bc",
   "metadata": {},
   "outputs": [],
   "source": [
    "penguins_wide = penguins.pivot_table(\n",
    "    index='species', \n",
    "    columns='island', \n",
    "    values='bill_length_mm', \n",
    "    aggfunc='count',\n",
    "    fill_value=0,\n",
    ").reset_index()\n",
    "penguins_wide"
   ]
  },
  {
   "cell_type": "code",
   "execution_count": null,
   "id": "74936357",
   "metadata": {},
   "outputs": [],
   "source": [
    "penguins_wide.melt(\n",
    "    id_vars = 'species',    # column(s) to use as identifier variables\n",
    "    value_vars = ['Biscoe', 'Dream', 'Torgersen'],   # column(s) to unpivot\n",
    ")"
   ]
  },
  {
   "cell_type": "markdown",
   "id": "e474b177",
   "metadata": {},
   "source": [
    "- Yes, it's fairly complicated and the naming isn't always intuitive"
   ]
  },
  {
   "cell_type": "markdown",
   "id": "dfb6d52b",
   "metadata": {},
   "source": [
    "- No one can remember all the syntax and arguments, but you need to know that these functions exist, and roughly what they do, so you can look them up when needed."
   ]
  },
  {
   "cell_type": "markdown",
   "id": "3fb7da11",
   "metadata": {
    "slideshow": {
     "slide_type": "slide"
    }
   },
   "source": [
    "### Merging 🚗\n"
   ]
  },
  {
   "cell_type": "code",
   "execution_count": null,
   "id": "e986b8de",
   "metadata": {
    "slideshow": {
     "slide_type": "fragment"
    }
   },
   "outputs": [],
   "source": [
    "phones = pd.DataFrame().assign(\n",
    "    Model=['iPhone 16', 'iPhone 16 Pro Max', 'Samsung Galaxy S24 Ultra', 'Pixel 9 Pro'],\n",
    "    Price=[799, 1199, 1299, 999],\n",
    "    Screen=[6.1, 6.9, 6.8, 6.3]\n",
    ")\n",
    "inventory = pd.DataFrame().assign(\n",
    "    Handset=['iPhone 16 Pro Max', 'iPhone 16', 'Pixel 9 Pro', 'Pixel 9 Pro', 'iPhone 16', 'iPhone 15'],\n",
    "    Units=[50, 40, 10, 15, 100, 5],\n",
    "    Store=['Briarwood', 'Somerset', 'Arbor Hills', '12 Oaks', 'Briarwood', 'Oakland Mall']\n",
    ")"
   ]
  },
  {
   "cell_type": "markdown",
   "id": "b65a41a0",
   "metadata": {
    "slideshow": {
     "slide_type": "slide"
    }
   },
   "source": [
    "### Example: Phone sales 📱"
   ]
  },
  {
   "cell_type": "code",
   "execution_count": null,
   "id": "100860e4",
   "metadata": {},
   "outputs": [],
   "source": [
    "# The DataFrame on the left contains information about phones on the market.\n",
    "# The DataFrame on the right contains information about the stock I have in my stores.\n",
    "dfs_side_by_side(phones, inventory)"
   ]
  },
  {
   "cell_type": "markdown",
   "id": "7b6f5a7d",
   "metadata": {
    "slideshow": {
     "slide_type": "fragment"
    }
   },
   "source": [
    "- **Question**: If I sell all of the phones in my inventory, how much will I make in revenue?"
   ]
  },
  {
   "cell_type": "markdown",
   "id": "85b254e0",
   "metadata": {
    "slideshow": {
     "slide_type": "fragment"
    }
   },
   "source": [
    "- The information I need to answer the question is spread across multiple DataFrames."
   ]
  },
  {
   "cell_type": "markdown",
   "id": "b41f9765",
   "metadata": {
    "slideshow": {
     "slide_type": "fragment"
    }
   },
   "source": [
    "- The solution is to **merge** the two DataFrames together horizontally."
   ]
  },
  {
   "cell_type": "markdown",
   "id": "8af86ffa",
   "metadata": {
    "slideshow": {
     "slide_type": "fragment"
    }
   },
   "source": [
    "- A merge is appropriate when we have two sources of information **about the same individuals** that is **linked by a common column(s)**.<br>The common column(s) are called the **join key**.<br>"
   ]
  },
  {
   "cell_type": "markdown",
   "id": "f1233657",
   "metadata": {
    "slideshow": {
     "slide_type": "slide"
    }
   },
   "source": [
    "### If I sell all of the phones in my inventory, how much will I make in revenue?"
   ]
  },
  {
   "cell_type": "code",
   "execution_count": null,
   "id": "c208ef41",
   "metadata": {
    "slideshow": {
     "slide_type": "fragment"
    }
   },
   "outputs": [],
   "source": [
    "combined = phones.merge(inventory, left_on='Model', right_on='Handset') \n",
    "combined"
   ]
  },
  {
   "cell_type": "code",
   "execution_count": null,
   "id": "04bbdbc1",
   "metadata": {},
   "outputs": [],
   "source": [
    "(combined['Price'] * combined['Units']).sum() "
   ]
  },
  {
   "cell_type": "markdown",
   "id": "7e2a2cad",
   "metadata": {
    "slideshow": {
     "slide_type": "slide"
    }
   },
   "source": [
    "### What just happened?"
   ]
  },
  {
   "cell_type": "code",
   "execution_count": 7,
   "id": "9cca7442",
   "metadata": {},
   "outputs": [
    {
     "data": {
      "text/html": [
       "\n",
       "        <iframe\n",
       "            width=\"865\"\n",
       "            height=\"509\"\n",
       "            src=\"https://docs.google.com/presentation/d/1HPJ7fiBLNEURsWYiY0qpqPR3qup68Mr0_B34GU99Y8Q/embed?start=false&loop=false&delayms=60000&rm=minimal\"\n",
       "            frameborder=\"0\"\n",
       "            allowfullscreen\n",
       "            \n",
       "        ></iframe>\n",
       "        "
      ],
      "text/plain": [
       "<IPython.lib.display.IFrame at 0x107071fd0>"
      ]
     },
     "metadata": {},
     "output_type": "display_data"
    }
   ],
   "source": [
    "# Click through the presentation that appears.\n",
    "show_merging_animation()"
   ]
  },
  {
   "cell_type": "markdown",
   "id": "f385b648",
   "metadata": {
    "slideshow": {
     "slide_type": "slide"
    }
   },
   "source": [
    "### The `merge` method"
   ]
  },
  {
   "cell_type": "markdown",
   "id": "ac4f44c6",
   "metadata": {
    "slideshow": {
     "slide_type": "fragment"
    }
   },
   "source": [
    "- The `merge` DataFrame method joins two DataFrames by columns or indexes."
   ]
  },
  {
   "cell_type": "markdown",
   "id": "7bf61a37",
   "metadata": {
    "slideshow": {
     "slide_type": "fragment"
    }
   },
   "source": [
    "- When using the `merge` method, the DataFrame before `merge` is the \"left\" DataFrame, and the DataFrame passed into `merge` is the \"right\" DataFrame.<br><small>In `phones.merge(inventory)`, `phones` is considered the \"left\" DataFrame and `inventory` is the \"right\" DataFrame.<br>The columns from the left DataFrame appear to the left of the columns from right DataFrame.</small>"
   ]
  },
  {
   "cell_type": "markdown",
   "id": "00274d88",
   "metadata": {
    "slideshow": {
     "slide_type": "fragment"
    }
   },
   "source": [
    "- By default:\n",
    "    - If join keys are not specified, all shared columns between the two DataFrames are used.\n",
    "    - The \"type\" of join performed is an inner join, which is just one of many types of joins."
   ]
  },
  {
   "cell_type": "markdown",
   "id": "922cd5c3",
   "metadata": {
    "slideshow": {
     "slide_type": "slide"
    }
   },
   "source": [
    "### Inner joins"
   ]
  },
  {
   "cell_type": "markdown",
   "id": "e6a46eb1",
   "metadata": {},
   "source": [
    "- The default type of join that `merge` performs is an **inner join**, which keeps the **intersection** of the join keys.\n",
    "\n",
    "<center><img src='imgs/inner-joins.png' width=300></center>"
   ]
  },
  {
   "cell_type": "code",
   "execution_count": null,
   "id": "f0be56cc",
   "metadata": {
    "slideshow": {
     "slide_type": "slide"
    }
   },
   "outputs": [],
   "source": [
    "# The DataFrame on the far right is the merged DataFrame.\n",
    "dfs_side_by_side(phones, inventory, phones.merge(inventory, left_on='Model', right_on='Handset'))"
   ]
  },
  {
   "cell_type": "markdown",
   "id": "b456c53a",
   "metadata": {
    "slideshow": {
     "slide_type": "fragment"
    }
   },
   "source": [
    "- Note that `'Samsung Galaxy S24 Ultra'` and `'iPhone 15'` do not appear in the merged DataFrame."
   ]
  },
  {
   "cell_type": "markdown",
   "id": "5fd430f5",
   "metadata": {
    "slideshow": {
     "slide_type": "fragment"
    }
   },
   "source": [
    "- That's because there is no `'Samsung Galaxy S24 Ultra'` in the right DataFrame (`inventory`), and no `'iPhone 15'` in the left DataFrame (`phones`)."
   ]
  },
  {
   "cell_type": "markdown",
   "id": "9e5dde60",
   "metadata": {
    "slideshow": {
     "slide_type": "slide"
    }
   },
   "source": [
    "### Other join types\n",
    "\n",
    "- We can change the type of join performed by changing the `how` argument in `merge`."
   ]
  },
  {
   "cell_type": "code",
   "execution_count": null,
   "id": "8d163486",
   "metadata": {
    "slideshow": {
     "slide_type": "fragment"
    }
   },
   "outputs": [],
   "source": [
    "phones.merge(inventory, left_on='Model', right_on='Handset', how='left')"
   ]
  },
  {
   "cell_type": "code",
   "execution_count": null,
   "id": "40bd8804",
   "metadata": {
    "slideshow": {
     "slide_type": "fragment"
    }
   },
   "outputs": [],
   "source": [
    "phones.merge(inventory, left_on='Model', right_on='Handset', how='right')"
   ]
  },
  {
   "cell_type": "code",
   "execution_count": null,
   "id": "60218c64",
   "metadata": {
    "slideshow": {
     "slide_type": "slide"
    }
   },
   "outputs": [],
   "source": [
    "phones.merge(inventory, left_on='Model', right_on='Handset', how='outer')"
   ]
  },
  {
   "cell_type": "markdown",
   "id": "446accf7",
   "metadata": {
    "slideshow": {
     "slide_type": "slide"
    }
   },
   "source": [
    "- The website [pandastutor.com](https://pandastutor.com) can help visualize DataFrame operations like these.<br>[**Here's a direct link**](https://pandastutor.com/vis.html#code=%23%20The%20code%20below%20just%20initializes%20the%0A%23%20phones%20and%20inventory%20DataFrames%20as%20we've%20seen%20them%0A%23%20in%20lecture.%0A%23%20---%0Aimport%20pandas%20as%20pd%0Aimport%20io%0A%0Aphones%20%3D%20pd.read_csv%28io.StringIO%28'''%0AModel,Price,Screen%0AiPhone%2016,799,6.1%0AiPhone%2016%20Pro%20Max,1199,6.9%0ASamsung%20Galaxy%20S24%20Ultra,1299,6.8%0APixel%209%20Pro,999,6.3%0A'''%29%29%0A%0Ainventory%20%3D%20pd.read_csv%28io.StringIO%28'''%0AHandset,Units,Store%0AiPhone%2016%20Pro%20Max,50,Briarwood%0AiPhone%2016,40,Somerset%0APixel%209%20Pro,10,Arbor%20Hills%0APixel%209%20Pro,15,12%20Oaks%0AiPhone%2016,100,Briarwood%0AiPhone%2015,5,Oakland%20Mall%0A'''%29%29%0A%0A%23%20---%0A%0A%23%20Below,%20uncomment%20the%20line%20that%20you'd%20like%20to%20visualize!%0A%23%20phones.merge%28inventory,%20left_on%3D'Model',%20right_on%3D'Handset',%20how%3D'inner'%29%0A%0Aphones.merge%28inventory,%20left_on%3D'Model',%20right_on%3D'Handset',%20how%3D'left'%29%0A%0A%23%20phones.merge%28inventory,%20left_on%3D'Model',%20right_on%3D'Handset',%20how%3D'right'%29%0A%0A%23%20phones.merge%28inventory,%20left_on%3D'Model',%20right_on%3D'Handset',%20how%3D'outer'%29&d=2024-09-11&lang=py&v=v1) to this specific example.\n",
    "\n",
    "<center><img src=\"imgs/pt-screenshot.png\" width=600></center>"
   ]
  },
  {
   "cell_type": "markdown",
   "id": "29e7e37e",
   "metadata": {
    "slideshow": {
     "slide_type": "slide"
    }
   },
   "source": [
    "### Different join types handle mismatches differently\n",
    "\n",
    "<center><img src='imgs/all-joins.png' width=400></center>"
   ]
  },
  {
   "cell_type": "markdown",
   "id": "36415fee",
   "metadata": {
    "slideshow": {
     "slide_type": "fragment"
    }
   },
   "source": [
    "- **Inner join**: Keep **only** the matching keys (intersection)."
   ]
  },
  {
   "cell_type": "markdown",
   "id": "2d551cb3",
   "metadata": {
    "slideshow": {
     "slide_type": "fragment"
    }
   },
   "source": [
    "- **Outer join**: Keep **all** keys in both DataFrames (union)."
   ]
  },
  {
   "cell_type": "markdown",
   "id": "1fa354d9",
   "metadata": {
    "slideshow": {
     "slide_type": "fragment"
    }
   },
   "source": [
    "- **Left join**: Keep all keys in the left DataFrame, whether or not they are in the right DataFrame."
   ]
  },
  {
   "cell_type": "markdown",
   "id": "ae8edaa5",
   "metadata": {
    "slideshow": {
     "slide_type": "fragment"
    }
   },
   "source": [
    "- **Right join**: Keep all keys in the right DataFrame, whether or not they are in the left DataFrame.<br><small> Note that `a.merge(b, how='left')` contains the same information as `b.merge(a, how='right')`, just in a different order.</small>"
   ]
  },
  {
   "cell_type": "markdown",
   "id": "ff85d44c",
   "metadata": {
    "slideshow": {
     "slide_type": "slide"
    }
   },
   "source": [
    "### Tip: Set differences"
   ]
  },
  {
   "cell_type": "markdown",
   "id": "8d37fea3",
   "metadata": {
    "slideshow": {
     "slide_type": "fragment"
    }
   },
   "source": [
    "- A set in Python is a data structure containing **unique**, **unordered** elements."
   ]
  },
  {
   "cell_type": "code",
   "execution_count": null,
   "id": "51a7348b",
   "metadata": {
    "slideshow": {
     "slide_type": "fragment"
    }
   },
   "outputs": [],
   "source": [
    "phones['Model']"
   ]
  },
  {
   "cell_type": "code",
   "execution_count": null,
   "id": "b5b4ed33",
   "metadata": {
    "slideshow": {
     "slide_type": "fragment"
    }
   },
   "outputs": [],
   "source": [
    "left = set(phones['Model'])\n",
    "left"
   ]
  },
  {
   "cell_type": "code",
   "execution_count": null,
   "id": "efc4ae9b",
   "metadata": {
    "slideshow": {
     "slide_type": "fragment"
    }
   },
   "outputs": [],
   "source": [
    "inventory['Handset']"
   ]
  },
  {
   "cell_type": "code",
   "execution_count": null,
   "id": "ee7cb89c",
   "metadata": {
    "slideshow": {
     "slide_type": "fragment"
    }
   },
   "outputs": [],
   "source": [
    "right = set(inventory['Handset'])\n",
    "right"
   ]
  },
  {
   "cell_type": "markdown",
   "id": "a6964b73",
   "metadata": {
    "slideshow": {
     "slide_type": "slide"
    }
   },
   "source": [
    "- To quickly check _which_ join key values are in the left DataFrame but not the right, or vice versa, create sets out of the join keys and use the `difference` method."
   ]
  },
  {
   "cell_type": "code",
   "execution_count": null,
   "id": "92693ef5",
   "metadata": {
    "slideshow": {
     "slide_type": "fragment"
    }
   },
   "outputs": [],
   "source": [
    "left.difference(right) "
   ]
  },
  {
   "cell_type": "code",
   "execution_count": null,
   "id": "259c9ad9",
   "metadata": {
    "slideshow": {
     "slide_type": "fragment"
    }
   },
   "outputs": [],
   "source": [
    "right.difference(left) "
   ]
  },
  {
   "cell_type": "markdown",
   "id": "2b5d0466",
   "metadata": {
    "slideshow": {
     "slide_type": "slide"
    }
   },
   "source": [
    "\n",
    "### Notes on the `merge` method"
   ]
  },
  {
   "cell_type": "markdown",
   "id": "4dea0b9b",
   "metadata": {
    "slideshow": {
     "slide_type": "fragment"
    }
   },
   "source": [
    "- `merge` is flexible – you can merge using a combination of columns, or the index of the DataFrame."
   ]
  },
  {
   "cell_type": "markdown",
   "id": "fe5af175",
   "metadata": {
    "slideshow": {
     "slide_type": "fragment"
    }
   },
   "source": [
    "-  If the two DataFrames have the same column names, `pandas` will add `_x` and `_y` to the duplicated column names to avoid having columns with the same name (change these the `suffixes` argument)."
   ]
  },
  {
   "cell_type": "markdown",
   "id": "59cf69b0",
   "metadata": {
    "slideshow": {
     "slide_type": "fragment"
    }
   },
   "source": [
    "- Ensure key uniqueness on the side that should be unique"
   ]
  },
  {
   "cell_type": "markdown",
   "id": "76d9c5cb",
   "metadata": {
    "slideshow": {
     "slide_type": "fragment"
    }
   },
   "source": [
    "- **Best practice**: Keep the larger / more fine-grained data on the left, and always do left join\n",
    "    - Preserves all rows from your primary (“left”) dataset\n",
    "    - Makes data loss explicit (unmatched rows become NaN), which you can audit\n",
    "    - If you just need an inner join, drop NaN afterwards\n",
    "    - Easier to debug and safer for reproducibility"
   ]
  },
  {
   "cell_type": "code",
   "execution_count": null,
   "id": "a8ba0934",
   "metadata": {},
   "outputs": [],
   "source": []
  }
 ],
 "metadata": {
  "celltoolbar": "Slideshow",
  "kernelspec": {
   "display_name": "Python 3 (ipykernel)",
   "language": "python",
   "name": "python3"
  },
  "language_info": {
   "codemirror_mode": {
    "name": "ipython",
    "version": 3
   },
   "file_extension": ".py",
   "mimetype": "text/x-python",
   "name": "python",
   "nbconvert_exporter": "python",
   "pygments_lexer": "ipython3",
   "version": "3.12.11"
  },
  "livereveal": {
   "scroll": true
  },
  "rise": {
   "transition": "none"
  }
 },
 "nbformat": 4,
 "nbformat_minor": 5
}
