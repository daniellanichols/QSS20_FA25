{
 "cells": [
  {
   "cell_type": "markdown",
   "id": "36665531-4f26-4eb8-8fa9-014c9b0c9200",
   "metadata": {
    "editable": true,
    "raw_mimetype": "",
    "slideshow": {
     "slide_type": "slide"
    },
    "tags": []
   },
   "source": [
    "# Lecture 05 – Python Functions & Command Lines\n",
    "\n",
    "## QSS 20, Fall 2025"
   ]
  },
  {
   "cell_type": "markdown",
   "id": "9f9be30c",
   "metadata": {
    "editable": true,
    "slideshow": {
     "slide_type": "slide"
    },
    "tags": [],
    "vscode": {
     "languageId": "plaintext"
    }
   },
   "source": [
    "### Steps to Write a Function\n",
    "\n",
    "1. **Pick a good name** (verb-like): `clean_text`, `sum_rows`.\n",
    "2. **Decide inputs (parameters)** and expected types.\n",
    "3. **Implement the body** using those inputs.\n",
    "4. **Document** with a docstring (what it does, params, returns, raises).\n",
    "5. **Return** results (don’t print in core logic).\n",
    "6. **Test** with simple and edge cases."
   ]
  },
  {
   "cell_type": "markdown",
   "id": "80393d6a-26c2-4f18-ab95-904fe11d3aa6",
   "metadata": {
    "editable": true,
    "slideshow": {
     "slide_type": "slide"
    },
    "tags": []
   },
   "source": [
    "\n",
    "## Positional vs Keyword Arguments (and `*args` / `**kwargs`)\n",
    "\n",
    "### Positional arguments\n",
    "Bound by **order** in the call."
   ]
  },
  {
   "cell_type": "code",
   "execution_count": null,
   "id": "c47e8d46-3204-4b34-a94a-6d744932f45c",
   "metadata": {
    "editable": true,
    "slideshow": {
     "slide_type": ""
    },
    "tags": []
   },
   "outputs": [],
   "source": [
    "def power(base, exp):\n",
    "    return base ** exp\n",
    "\n",
    "power(2, 3)      # base=2, exp=3"
   ]
  },
  {
   "cell_type": "markdown",
   "id": "c39a4aed-032e-455e-a2b3-de50792e05e9",
   "metadata": {
    "editable": true,
    "slideshow": {
     "slide_type": "slide"
    },
    "tags": []
   },
   "source": [
    "\n",
    "\n",
    "### Keyword arguments\n",
    "\n",
    "Bound by **name**; order doesn’t matter.\n"
   ]
  },
  {
   "cell_type": "code",
   "execution_count": null,
   "id": "5d0f1f36-d325-44d9-a2f9-ba7c6c1c4120",
   "metadata": {
    "editable": true,
    "slideshow": {
     "slide_type": ""
    },
    "tags": []
   },
   "outputs": [],
   "source": [
    "power(base=2, exp=3)\n",
    "power(exp=3, base=2)  # also works"
   ]
  },
  {
   "cell_type": "markdown",
   "id": "d4ba62fd-cfe0-4745-9bda-89861733be2f",
   "metadata": {
    "editable": true,
    "slideshow": {
     "slide_type": "slide"
    },
    "tags": []
   },
   "source": [
    "\n",
    "### Mixing rules\n",
    "\n",
    "Positional first, then keyword.\n"
   ]
  },
  {
   "cell_type": "code",
   "execution_count": null,
   "id": "546a7cad-a115-4273-b896-78773a406d3d",
   "metadata": {
    "editable": true,
    "slideshow": {
     "slide_type": ""
    },
    "tags": []
   },
   "outputs": [],
   "source": [
    "power(2, exp=3)  # valid\n",
    "# power(base=2, 3)  # invalid"
   ]
  },
  {
   "cell_type": "markdown",
   "id": "bf5c1a76-8798-4626-9ff5-0aceb138eb32",
   "metadata": {
    "editable": true,
    "slideshow": {
     "slide_type": "slide"
    },
    "tags": []
   },
   "source": [
    "\n",
    "### `*args` and `**kwargs`\n",
    "\n",
    "* Often seen in official documents, e.g. [here](https://matplotlib.org/3.5.3/api/_as_gen/matplotlib.pyplot.bar.html)\n",
    "* See the source code\n",
    "* Helpful for **wrappers** that forward extra args/kwargs\n",
    "\n"
   ]
  },
  {
   "cell_type": "code",
   "execution_count": null,
   "id": "88915ac3-73bc-4773-8a9a-0c7fa6b17d0d",
   "metadata": {
    "editable": true,
    "slideshow": {
     "slide_type": ""
    },
    "tags": []
   },
   "outputs": [],
   "source": [
    "def wrapper(x, *args, scale=1.0, **kwargs):\n",
    "    \"\"\"Forward any extra args/kwargs to the inner function.\"\"\"\n",
    "    return inner(x, *args, scale=scale, **kwargs)"
   ]
  },
  {
   "cell_type": "markdown",
   "id": "aa3729c6-9993-49f3-b3c6-9a417d158fa2",
   "metadata": {
    "editable": true,
    "slideshow": {
     "slide_type": ""
    },
    "tags": []
   },
   "source": [
    "* `*args`: tuple of extra **positional** args.\n",
    "* `**kwargs`: dict of extra **keyword** args."
   ]
  },
  {
   "cell_type": "markdown",
   "id": "6fc8dbc4-5632-4fba-bed9-6f83fd0987da",
   "metadata": {
    "editable": true,
    "slideshow": {
     "slide_type": "slide"
    },
    "tags": []
   },
   "source": [
    "\n",
    "### `return` vs `yield`\n",
    "\n",
    "| Aspect      | `return` (function)            | `yield` (generator)                         |\n",
    "| ----------- | ------------------------------ | ------------------------------------------- |\n",
    "| Execution   | Computes a value and **exits** | **Pauses** and produces items one-by-one    |\n",
    "| Result form | Single object (or tuple)       | Iterator (lazy sequence)                    |\n",
    "| Memory      | Holds entire result in memory  | Streams without storing everything          |\n",
    "| Use cases   | Small/finite results           | Large data, pipelines, streaming, iteration |\n"
   ]
  },
  {
   "cell_type": "code",
   "execution_count": null,
   "id": "f6186a6b",
   "metadata": {
    "editable": true,
    "slideshow": {
     "slide_type": "slide"
    },
    "tags": []
   },
   "outputs": [],
   "source": [
    "# return example\n",
    "def even_numbers_return(limit: int):\n",
    "    out = []\n",
    "    for x in range(limit + 1):\n",
    "        if x % 2 == 0:\n",
    "            out.append(x)\n",
    "    return out"
   ]
  },
  {
   "cell_type": "code",
   "execution_count": null,
   "id": "b19881a9",
   "metadata": {
    "editable": true,
    "slideshow": {
     "slide_type": ""
    },
    "tags": []
   },
   "outputs": [],
   "source": [
    "# yield example\n",
    "def even_numbers_yield(limit: int):\n",
    "    for x in range(limit + 1):\n",
    "        if x % 2 == 0:\n",
    "            yield x"
   ]
  },
  {
   "cell_type": "code",
   "execution_count": null,
   "id": "abd7d6fb",
   "metadata": {
    "editable": true,
    "slideshow": {
     "slide_type": "slide"
    },
    "tags": []
   },
   "outputs": [],
   "source": [
    "%time\n",
    "even_numbers_return(10)"
   ]
  },
  {
   "cell_type": "code",
   "execution_count": null,
   "id": "e2dde902",
   "metadata": {
    "editable": true,
    "slideshow": {
     "slide_type": ""
    },
    "tags": []
   },
   "outputs": [],
   "source": [
    "%time\n",
    "list(even_numbers_yield(10))  # [0, 2, 4, 6, 8, 10]"
   ]
  },
  {
   "cell_type": "markdown",
   "id": "4cc96f45",
   "metadata": {
    "editable": true,
    "slideshow": {
     "slide_type": "slide"
    },
    "tags": []
   },
   "source": [
    "### f-Strings\n",
    "\n",
    "**f-strings** (Python 3.6+) let you embed expressions inside string literals using `{}` with optional formatting after a colon `:`. They’re concise, fast, and use Python’s standard *format spec mini-language*."
   ]
  },
  {
   "cell_type": "code",
   "execution_count": null,
   "id": "6a247427",
   "metadata": {
    "editable": true,
    "slideshow": {
     "slide_type": ""
    },
    "tags": []
   },
   "outputs": [],
   "source": [
    "name = \"Ada\"\n",
    "score = 97.456"
   ]
  },
  {
   "cell_type": "code",
   "execution_count": null,
   "id": "2dfd3cc7",
   "metadata": {
    "editable": true,
    "slideshow": {
     "slide_type": ""
    },
    "tags": []
   },
   "outputs": [],
   "source": [
    "msg = \"Hello\" + name + \", your score is \" + str(score) + \".\"\n",
    "msg"
   ]
  },
  {
   "cell_type": "code",
   "execution_count": null,
   "id": "7cdc61e9",
   "metadata": {
    "editable": true,
    "slideshow": {
     "slide_type": ""
    },
    "tags": []
   },
   "outputs": [],
   "source": [
    "msg = f\"Hello {name}, your score is {score}.\"\n",
    "msg"
   ]
  },
  {
   "cell_type": "markdown",
   "id": "4bacfc07",
   "metadata": {
    "editable": true,
    "slideshow": {
     "slide_type": "slide"
    },
    "tags": []
   },
   "source": [
    "* You can put **any valid Python expression** inside `{...}`:"
   ]
  },
  {
   "cell_type": "code",
   "execution_count": null,
   "id": "b3b76c67",
   "metadata": {
    "editable": true,
    "slideshow": {
     "slide_type": ""
    },
    "tags": []
   },
   "outputs": [],
   "source": [
    "f\"{name.upper()} has {len(name)} letters.\""
   ]
  },
  {
   "cell_type": "markdown",
   "id": "2ed20287",
   "metadata": {
    "editable": true,
    "slideshow": {
     "slide_type": "slide"
    },
    "tags": []
   },
   "source": [
    "### Default Values (how and why)\n",
    "\n",
    "* Provide a default when callers **omit** an argument."
   ]
  },
  {
   "cell_type": "code",
   "execution_count": null,
   "id": "42ef9a60",
   "metadata": {
    "editable": true,
    "slideshow": {
     "slide_type": ""
    },
    "tags": []
   },
   "outputs": [],
   "source": [
    "def greet(name, punct = \"!\"):\n",
    "    return f\"Hello, {name}{punct}\""
   ]
  },
  {
   "cell_type": "code",
   "execution_count": null,
   "id": "690b87cc",
   "metadata": {
    "editable": true,
    "slideshow": {
     "slide_type": ""
    },
    "tags": []
   },
   "outputs": [],
   "source": [
    "greet(\"Ada\")"
   ]
  },
  {
   "cell_type": "code",
   "execution_count": null,
   "id": "fe73014d",
   "metadata": {
    "editable": true,
    "slideshow": {
     "slide_type": ""
    },
    "tags": []
   },
   "outputs": [],
   "source": [
    "greet(\"Ada\", \"?\")"
   ]
  },
  {
   "cell_type": "code",
   "execution_count": null,
   "id": "a1959672",
   "metadata": {
    "editable": true,
    "slideshow": {
     "slide_type": ""
    },
    "tags": []
   },
   "outputs": [],
   "source": [
    "greet(name=\"Ada\")"
   ]
  },
  {
   "cell_type": "markdown",
   "id": "e5922aaf-3543-4777-a2de-610ed791b235",
   "metadata": {
    "editable": true,
    "slideshow": {
     "slide_type": "slide"
    },
    "tags": []
   },
   "source": [
    "\n",
    "---\n",
    "\n",
    "## Command Line Basics\n",
    "\n",
    "---\n",
    "\n"
   ]
  },
  {
   "cell_type": "markdown",
   "id": "0c537454-dd70-410e-9ea4-1437b8b10270",
   "metadata": {
    "editable": true,
    "jp-MarkdownHeadingCollapsed": true,
    "slideshow": {
     "slide_type": "slide"
    },
    "tags": []
   },
   "source": [
    "\n",
    "### 1. Core Command Line Basics\n",
    "\n",
    "* `pwd` → print working directory (where you are).\n",
    "* `ls` → list files and folders.\n",
    "* `cd folder` → change into a folder.\n",
    "* `cd ~` → go to your **home directory** (`~`).\n",
    "* `.` → current directory.\n",
    "* `..` → parent directory (one level up).\n",
    "\n"
   ]
  },
  {
   "cell_type": "markdown",
   "id": "ef059453-e9dd-448a-8cc7-b662860d37d8",
   "metadata": {
    "editable": true,
    "slideshow": {
     "slide_type": "slide"
    },
    "tags": []
   },
   "source": [
    "\n",
    "### 2. Working with Files and Folders\n",
    "\n",
    "* `mkdir myfolder` → create a new folder.\n",
    "* `rm filename.txt` → remove a file.\n",
    "* `rm -r myfolder` → remove a folder and its contents (**be careful**).\n",
    "* `cp file1 file2` → copy file1 to file2.\n",
    "* `mv file1 file2` → move or rename file1 to file2.\n",
    "* `cat file.txt` → print the contents of a file to the terminal.\n",
    "\n",
    "\n"
   ]
  },
  {
   "cell_type": "markdown",
   "id": "304dd500-51d8-4c37-b625-0a8fb52c9435",
   "metadata": {
    "editable": true,
    "jp-MarkdownHeadingCollapsed": true,
    "slideshow": {
     "slide_type": "slide"
    },
    "tags": []
   },
   "source": [
    "\n",
    "### Handling Spaces in File/Folder Names\n",
    "\n",
    "* Escape with quotes:\n",
    "\n",
    "  ```bash\n",
    "  cd \"My Documents\"\n",
    "  ```\n",
    "* Or with backslash:\n",
    "\n",
    "  ```bash\n",
    "  cd My\\ Documents\n",
    "  ```"
   ]
  },
  {
   "cell_type": "markdown",
   "id": "d99bcd27-7905-4ceb-85b0-e4590ff2db9a",
   "metadata": {
    "editable": true,
    "slideshow": {
     "slide_type": "slide"
    },
    "tags": []
   },
   "source": [
    "### PATH and Program Execution\n",
    "\n",
    "* **PATH** = environment variable telling the shell where to look for executables.\n",
    "\n",
    "  ```bash\n",
    "  echo $PATH\n",
    "  ```\n",
    "* Steps when you run a command:\n",
    "\n",
    "  1. Shell checks if it’s built-in.\n",
    "  2. Otherwise, searches directories in `$PATH`.\n",
    "  3. OS loads program into memory.\n",
    "  4. Program runs and returns output to shell.\n",
    "\n"
   ]
  },
  {
   "cell_type": "markdown",
   "id": "e77ae5e8-35a0-4a69-8e1c-4875abcdb86f",
   "metadata": {
    "editable": true,
    "jp-MarkdownHeadingCollapsed": true,
    "slideshow": {
     "slide_type": "slide"
    },
    "tags": []
   },
   "source": [
    "### Opening Files from the Command Line\n",
    "\n",
    "* **macOS Finder:**\n",
    "\n",
    "  ```bash\n",
    "  open .\n",
    "  ```\n",
    "\n",
    "  Opens current directory in Finder.\n",
    "\n",
    "* **Visual Studio Code:**\n",
    "\n",
    "  ```bash\n",
    "  code .          # open current folder\n",
    "  code file.py    # open specific file\n",
    "  ```\n"
   ]
  },
  {
   "cell_type": "markdown",
   "id": "a2d4c9f5-08e0-47e7-8ffb-ba863508b36b",
   "metadata": {
    "editable": true,
    "jp-MarkdownHeadingCollapsed": true,
    "slideshow": {
     "slide_type": "slide"
    },
    "tags": []
   },
   "source": [
    "\n",
    "\n",
    "### Checking System Resources\n",
    "\n",
    "* Disk usage:\n",
    "\n",
    "  ```bash\n",
    "  du -sh *    # size of files/folders in current directory\n",
    "  ```\n",
    "* Free space:\n",
    "\n",
    "  ```bash\n",
    "  df -h\n",
    "  ```\n"
   ]
  },
  {
   "cell_type": "markdown",
   "id": "420bc61d-a70c-48f2-a351-781c361be295",
   "metadata": {
    "editable": true,
    "slideshow": {
     "slide_type": "slide"
    },
    "tags": []
   },
   "source": [
    "\n",
    "### Redirecting and Piping\n",
    "\n",
    "* `>` → send output to a file (overwrite).\n",
    "* `>>` → append output to a file.\n",
    "* `|` → *pipe* output from one command into another.\n",
    "\n",
    "Examples:\n",
    "\n",
    "```bash\n",
    "echo \"hello\" > file.txt      # overwrite\n",
    "echo \"world\" >> file.txt     # append\n",
    "cat file.txt | grep hello    # show only lines with \"hello\"\n",
    "ls -l | less                 # scroll through long output\n",
    "```\n"
   ]
  },
  {
   "cell_type": "markdown",
   "id": "5407a602-30cf-4a4b-8721-d8c27cfce2d8",
   "metadata": {
    "editable": true,
    "slideshow": {
     "slide_type": "slide"
    },
    "tags": []
   },
   "source": [
    "### Running Python Scripts\n",
    "\n",
    "* Run a script:\n",
    "\n",
    "  ```bash\n",
    "  python myscript.py\n",
    "  ```\n",
    "* Redirect output to a log:\n",
    "\n",
    "  ```bash\n",
    "  python myscript.py > log.txt      # overwrite log\n",
    "  python myscript.py >> log.txt     # append log\n",
    "  ```"
   ]
  },
  {
   "cell_type": "markdown",
   "id": "b2861bb9-9785-448c-b006-920283153502",
   "metadata": {
    "editable": true,
    "slideshow": {
     "slide_type": "slide"
    },
    "tags": []
   },
   "source": [
    "### Running Jobs in Background with `nohup`\n",
    "\n",
    "* nohup = no hangup → allows a program to keep running even if you log out.\n",
    "* Useful for long jobs on a server.\n",
    "\n",
    "    ```bash\n",
    "    nohup python myscript.py > mylog.txt 2>&1 &\n",
    "    ```\n",
    "\n",
    "* `> mylog.txt` → save output to mylog.txt.\n",
    "* `2>&1` → also redirect errors into the same file.\n",
    "* `&` → run in background so you get the prompt back.\n",
    "* Output will continue even after closing the terminal."
   ]
  },
  {
   "cell_type": "markdown",
   "id": "617c1eab-556e-4e1e-98dc-0316099f2e46",
   "metadata": {
    "editable": true,
    "slideshow": {
     "slide_type": "slide"
    },
    "tags": []
   },
   "source": [
    "### Command Line Tips\n",
    "\n",
    "- The command line can be disorienting, at first.\n",
    "- But there are some things to make it more comfortable:\n",
    "    0. Use tab for auto completion!\n",
    "    1. Use `--help` to get help.\n",
    "    2. Use keyboard shortcuts:\n",
    "        - `ctrl-a` to move to front of line\n",
    "        - `ctrl-e` moves to end\n",
    "        - `alt-b` moves back a word (I remap to alt-left)\n",
    "        - `<up>` recalls previous command\n",
    "        - `<ctrl-r>` initiates search for previous command\n",
    "    3. Install the `fish` shell (the default is `bash` or `zsh`).\n"
   ]
  }
 ],
 "metadata": {
  "kernelspec": {
   "display_name": "Python (QSS20)",
   "language": "python",
   "name": "qss20"
  },
  "language_info": {
   "codemirror_mode": {
    "name": "ipython",
    "version": 3
   },
   "file_extension": ".py",
   "mimetype": "text/x-python",
   "name": "python",
   "nbconvert_exporter": "python",
   "pygments_lexer": "ipython3",
   "version": "3.12.11"
  },
  "livereveal": {
   "scroll": true
  },
  "rise": {
   "transition": "none"
  }
 },
 "nbformat": 4,
 "nbformat_minor": 5
}
