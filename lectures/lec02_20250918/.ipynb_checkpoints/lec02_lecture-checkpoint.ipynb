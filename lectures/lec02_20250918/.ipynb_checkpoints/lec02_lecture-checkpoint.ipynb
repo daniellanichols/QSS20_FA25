{
  "cells": [
    {
      "cell_type": "markdown",
      "metadata": {},
      "source": [
        "# Lecture 2, September 18, 2025 – Python Basics"
      ]
    },
    {
      "cell_type": "code",
      "execution_count": null,
      "metadata": {},
      "outputs": [],
      "source": [
        "# Imports\n",
        "import pandas as pd\n",
        "import numpy as np\n",
        "\n",
        "import plotly.express as px\n",
        "import matplotlib.pyplot as plt\n",
        "plt.style.use('ggplot')"
      ]
    },
    {
      "cell_type": "markdown",
      "metadata": {},
      "source": [
        "## Demo"
      ]
    },
    {
      "cell_type": "markdown",
      "metadata": {},
      "source": [
        "### _Little Women_ (1868)\n",
        "\n",
        "- _Little Women_, by Louisa May Alcott, is a novel that follows the life of four sisters – Meg, Jo, Beth, and Amy.\n",
        "    - A movie based on the novel was released in 2019, starring Emma Watson (Meg) and Timothée Chalamet (Laurie).\n",
        "- Using tools from this class, we'll learn (a bit) about the plot of the book, without reading it.\n",
        "- Do not worry about any of this code – we'll cover the necessary pieces in the weeks to come. Sit back and relax!"
      ]
    },
    {
      "cell_type": "code",
      "execution_count": null,
      "metadata": {},
      "outputs": [],
      "source": [
        "# Read in 'lw.txt' to a variable called little_women_text.\n",
        "little_women_text = open('data/lw.txt').read()"
      ]
    },
    {
      "cell_type": "code",
      "execution_count": null,
      "metadata": {},
      "outputs": [],
      "source": [
        "# See the first three thousand characters.\n",
        "little_women_text[:3000]"
      ]
    },
    {
      "cell_type": "code",
      "execution_count": null,
      "metadata": {},
      "outputs": [],
      "source": [
        "# Print the first three thousand characters.\n",
        "print(little_women_text[:3000])"
      ]
    },
    {
      "cell_type": "code",
      "execution_count": null,
      "metadata": {},
      "outputs": [],
      "source": [
        "# Create a variable \"chapters\" by splitting the text on 'CHAPTER '.\n",
        "chapters = little_women_text.split('CHAPTER ') \n",
        "\n",
        "# Create a DataFrame with one column - the text of each chapters.\n",
        "pd.DataFrame().assign(chapters=chapters)"
      ]
    },
    {
      "cell_type": "code",
      "execution_count": null,
      "metadata": {},
      "outputs": [],
      "source": [
        "# Number of occurrences of each name in each chapter.\n",
        "\n",
        "counts = pd.DataFrame().assign(\n",
        "    Amy=np.char.count(chapters, 'Amy'),\n",
        "    Beth=np.char.count(chapters, 'Beth'),\n",
        "    Jo=np.char.count(chapters, 'Jo'),\n",
        "    Meg=np.char.count(chapters, 'Meg'),\n",
        "    Laurie=np.char.count(chapters, 'Laurie'),\n",
        ")\n",
        "counts"
      ]
    },
    {
      "cell_type": "code",
      "execution_count": null,
      "metadata": {},
      "outputs": [],
      "source": [
        "# Cumulative number of times each name appears.\n",
        "\n",
        "cumulative_counts = pd.DataFrame().assign(\n",
        "    Amy=np.cumsum(counts.get('Amy')),\n",
        "    Beth=np.cumsum(counts.get('Beth')),\n",
        "    Jo=np.cumsum(counts.get('Jo')),\n",
        "    Meg=np.cumsum(counts.get('Meg')),\n",
        "    Laurie=np.cumsum(counts.get('Laurie')),\n",
        "    Chapter=np.arange(1, 49, 1)\n",
        ")\n",
        "\n",
        "cumulative_counts"
      ]
    },
    {
      "cell_type": "code",
      "execution_count": null,
      "metadata": {},
      "outputs": [],
      "source": [
        "df = cumulative_counts.drop(columns=['Chapter']).melt().rename(columns={'variable': 'name', 'value': 'Count'})\n",
        "df.assign(Chapter=list(range(1, 49)) * 5)"
      ]
    },
    {
      "cell_type": "code",
      "execution_count": null,
      "metadata": {},
      "outputs": [],
      "source": [
        "# Putting it all together, we get a helpful visualization.\n",
        "cumulative_counts_df = cumulative_counts.drop(columns=['Chapter']).melt().rename(columns={'variable': 'name', 'value': 'Count'})\n",
        "cumulative_counts_df = cumulative_counts_df.assign(Chapter=list(range(1, 49)) * 5)\n",
        "px.line(cumulative_counts_df, x='Chapter', y='Count', color='name', width=900, height=600, title='Cumulative Number of Times Each Name Appears', template='ggplot2').show()"
      ]
    },
    {
      "cell_type": "code",
      "execution_count": null,
      "metadata": {},
      "outputs": [],
      "source": []
    },
    {
      "cell_type": "markdown",
      "metadata": {},
      "source": [
        "### Jupyter Notebooks 📓"
      ]
    },
    {
      "cell_type": "markdown",
      "metadata": {},
      "source": [
        "- Often, code is written in a text editor and then run in a command-line interface (or both steps are done in an IDE).\n",
        "\n",
        "<center>\n",
        "<img src='images/terminal.png' width=800>\n",
        "</center>"
      ]
    },
    {
      "cell_type": "markdown",
      "metadata": {},
      "source": [
        "- **Jupyter Notebooks** allow us to write and run code within a single document. They also allow us to embed text (in Markdown format) and code. "
      ]
    },
    {
      "cell_type": "markdown",
      "metadata": {},
      "source": [
        "## Expressions"
      ]
    },
    {
      "cell_type": "markdown",
      "metadata": {},
      "source": [
        "- An **expression** is a combination of values, operators, and functions that **evaluates** to some **value**."
      ]
    },
    {
      "cell_type": "markdown",
      "metadata": {},
      "source": [
        "- For now, let's think of Python like a calculator – it takes expressions and evaluates them."
      ]
    },
    {
      "cell_type": "markdown",
      "metadata": {},
      "source": [
        "- We will enter our expressions in **code cells**. To run a code cell, either:\n",
        "    - **Hit `shift` + `enter` (or `shift` + `return`) on your keyboard (strongly preferred)**, or\n",
        "    - Press the \"▶ Run\" button in the toolbar."
      ]
    },
    {
      "cell_type": "code",
      "execution_count": null,
      "metadata": {},
      "outputs": [],
      "source": [
        "23"
      ]
    },
    {
      "cell_type": "code",
      "execution_count": null,
      "metadata": {},
      "outputs": [],
      "source": [
        "-15 + 2.718"
      ]
    },
    {
      "cell_type": "code",
      "execution_count": null,
      "metadata": {},
      "outputs": [],
      "source": [
        "4 ** 3"
      ]
    },
    {
      "cell_type": "code",
      "execution_count": null,
      "metadata": {},
      "outputs": [],
      "source": [
        "(2 + 3 + 4) / 3"
      ]
    },
    {
      "cell_type": "code",
      "execution_count": null,
      "metadata": {},
      "outputs": [],
      "source": [
        "# Only one value is displayed. Why?\n",
        "9 + 10\n",
        "13 / 4\n",
        "21"
      ]
    },
    {
      "cell_type": "markdown",
      "metadata": {},
      "source": [
        "### Arithmetic operations\n",
        "\n",
        "| Operation | Operator | Example | Value | \n",
        "| --- | --- | --- | --- |\n",
        "| Addition | `+` | `2 + 3` | `5` |\n",
        "| Subtraction | `-` | `2 - 3` | `-1` |\n",
        "| Multiplication | `*` | `2 * 3` | `6` |\n",
        "| Division | `/` | `7 / 3` | `2.66667` |\n",
        "| Remainder | `%` | `7 % 3` | `1` |\n",
        "| Exponentiation | `**` | `2 ** 0.5` | `1.41421` |"
      ]
    },
    {
      "cell_type": "markdown",
      "metadata": {},
      "source": [
        "### Python uses the typical order of operations – PEMDAS\n",
        "\n",
        "- P arentheses (and other grouping symbols)\n",
        "- E xponents\n",
        "- MD Multiplication and Division\n",
        "- AS Addition and Subtraction"
      ]
    },
    {
      "cell_type": "code",
      "execution_count": null,
      "metadata": {},
      "outputs": [],
      "source": [
        "5 * 2 ** 3"
      ]
    },
    {
      "cell_type": "code",
      "execution_count": null,
      "metadata": {},
      "outputs": [],
      "source": [
        "(5 * 2) ** 3"
      ]
    },
    {
      "cell_type": "code",
      "execution_count": null,
      "metadata": {},
      "outputs": [],
      "source": []
    },
    {
      "cell_type": "markdown",
      "metadata": {},
      "source": [
        "## Variables"
      ]
    },
    {
      "cell_type": "markdown",
      "metadata": {},
      "source": [
        "### Motivation\n",
        "\n",
        "Below, we compute the number of seconds in a year."
      ]
    },
    {
      "cell_type": "code",
      "execution_count": null,
      "metadata": {},
      "outputs": [],
      "source": [
        "60 * 60 * 24 * 365"
      ]
    },
    {
      "cell_type": "markdown",
      "metadata": {},
      "source": [
        "If we want to use the above value later in our notebook to find, say, the number of seconds in 12 years, we'd have to copy-and-paste the expression. **This is inconvenient, and prone to introducing errors.**"
      ]
    },
    {
      "cell_type": "code",
      "execution_count": null,
      "metadata": {},
      "outputs": [],
      "source": [
        "60 * 60 * 24 * 365 * 12"
      ]
    },
    {
      "cell_type": "markdown",
      "metadata": {},
      "source": [
        "It would be great if we could **store** the initial value and refer to it later on!"
      ]
    },
    {
      "cell_type": "markdown",
      "metadata": {},
      "source": [
        "### Variables and assignment statements"
      ]
    },
    {
      "cell_type": "markdown",
      "metadata": {},
      "source": [
        "- A **variable** is a place to store a value so that it can be referred to later in our code. To define a variable, we use an **assignment statement**.\n",
        "\n",
        "$$ \\overbrace{\\texttt{zebra}}^{\\text{name}} = \\overbrace{\\texttt{23 - 14}}^{\\text{any expression}} $$\n"
      ]
    },
    {
      "cell_type": "markdown",
      "metadata": {},
      "source": [
        "-  An assignment statement changes the meaning of the **name** to the left of the `=` symbol."
      ]
    },
    {
      "cell_type": "markdown",
      "metadata": {},
      "source": [
        "- The expression on the right-hand side of the `=` symbol is evaluated before being assigned to the name on the left-hand side.\n",
        "    * e.g. `zebra` is bound to `9` (value) not `23 - 14` (expression)."
      ]
    },
    {
      "cell_type": "markdown",
      "metadata": {},
      "source": [
        "### Think of variable names as nametags!"
      ]
    },
    {
      "cell_type": "code",
      "execution_count": null,
      "metadata": {},
      "outputs": [],
      "source": [
        "# Note: This is an assignment statement, not an expression.\n",
        "# Assignment statements don't output anything!\n",
        "a = 1"
      ]
    },
    {
      "cell_type": "code",
      "execution_count": null,
      "metadata": {},
      "outputs": [],
      "source": [
        "a = 2"
      ]
    },
    {
      "cell_type": "code",
      "execution_count": null,
      "metadata": {},
      "outputs": [],
      "source": [
        "b = 2"
      ]
    },
    {
      "cell_type": "markdown",
      "metadata": {},
      "source": [
        "### Naming variables\n",
        "\n",
        "- Give your variables helpful names so that you know what they refer to.\n",
        "- Variable names can contain uppercase and lowercase characters, the digits 0-9, and underscores.\n",
        "    - They cannot start with a number.\n",
        "    - They are case sensitive!"
      ]
    },
    {
      "cell_type": "markdown",
      "metadata": {},
      "source": [
        "The following assignment statements are **valid**, but use **poor** variable names 😕."
      ]
    },
    {
      "cell_type": "code",
      "execution_count": null,
      "metadata": {},
      "outputs": [],
      "source": [
        "six = 15"
      ]
    },
    {
      "cell_type": "code",
      "execution_count": null,
      "metadata": {},
      "outputs": [],
      "source": [
        "i_45love_chocolate_9999 = 60 * 60 * 24 * 365"
      ]
    },
    {
      "cell_type": "markdown",
      "metadata": {},
      "source": [
        "The following assignment statements are **valid**, and use **good** variable names ✅."
      ]
    },
    {
      "cell_type": "code",
      "execution_count": null,
      "metadata": {},
      "outputs": [],
      "source": [
        "seconds_per_hour = 60 * 60\n",
        "hours_per_year = 24 * 365\n",
        "seconds_per_year = seconds_per_hour * hours_per_year"
      ]
    },
    {
      "cell_type": "markdown",
      "metadata": {},
      "source": [
        "### Python functions\n",
        "\n",
        "- Functions in Python work the same way functions in math do.\n",
        "- The inputs to functions are called **arguments**.\n",
        "- Python comes with a number of built-in functions that we are free to use.\n",
        "- **Calling** a function, or using a function, means asking the function to \"run its recipe\" on the given input."
      ]
    },
    {
      "cell_type": "code",
      "execution_count": null,
      "metadata": {},
      "outputs": [],
      "source": [
        "abs(-23)"
      ]
    },
    {
      "cell_type": "markdown",
      "metadata": {},
      "source": [
        "### Some functions can take a variable number of arguments"
      ]
    },
    {
      "cell_type": "code",
      "execution_count": null,
      "metadata": {},
      "outputs": [],
      "source": [
        "max(4, -8)"
      ]
    },
    {
      "cell_type": "code",
      "execution_count": null,
      "metadata": {},
      "outputs": [],
      "source": [
        "max(2, -3, -6, 10, -4)"
      ]
    },
    {
      "cell_type": "code",
      "execution_count": null,
      "metadata": {},
      "outputs": [],
      "source": [
        "max(9)"
      ]
    },
    {
      "cell_type": "code",
      "execution_count": null,
      "metadata": {},
      "outputs": [],
      "source": [
        "max(9 + 10, 9 - 10)"
      ]
    },
    {
      "cell_type": "markdown",
      "metadata": {},
      "source": [
        "### Put ```?``` after a function's name to see its documentation 📄\n",
        "\n",
        "Or use the `help` function, e.g. `help(round)`."
      ]
    },
    {
      "cell_type": "code",
      "execution_count": null,
      "metadata": {},
      "outputs": [],
      "source": [
        "round(1.45678)"
      ]
    },
    {
      "cell_type": "code",
      "execution_count": null,
      "metadata": {},
      "outputs": [],
      "source": [
        "round?"
      ]
    },
    {
      "cell_type": "code",
      "execution_count": null,
      "metadata": {},
      "outputs": [],
      "source": [
        "round(1.45678, 3)"
      ]
    },
    {
      "cell_type": "markdown",
      "metadata": {},
      "source": [
        "### Nested evaluation\n",
        "\n",
        "We can **nest** many function calls to evaluate sophisticated expressions."
      ]
    },
    {
      "cell_type": "code",
      "execution_count": null,
      "metadata": {},
      "outputs": [],
      "source": [
        "min(abs(max(-1, -2, -3, min(4, -2))), max(5, 100))"
      ]
    },
    {
      "cell_type": "markdown",
      "metadata": {},
      "source": [
        "### Import statements\n",
        "- Python doesn't have everything we need built in.\n",
        "- In order to gain additional functionality, we import **modules** through **import statements**.\n",
        "- **Modules** are collections of Python functions and values.\n",
        "- Call these functions using the syntax `module.function()`, called \"dot notation\"."
      ]
    },
    {
      "cell_type": "markdown",
      "metadata": {},
      "source": [
        "### Example: `import math`\n",
        "\n",
        "Some of the many functions built into the `math` module are `sqrt`, `pow`, and `log`."
      ]
    },
    {
      "cell_type": "code",
      "execution_count": 3,
      "metadata": {},
      "outputs": [],
      "source": [
        "import math"
      ]
    },
    {
      "cell_type": "code",
      "execution_count": null,
      "metadata": {},
      "outputs": [],
      "source": [
        "math.sqrt(16)"
      ]
    },
    {
      "cell_type": "code",
      "execution_count": null,
      "metadata": {},
      "outputs": [],
      "source": [
        "math.pow(2, 5)"
      ]
    },
    {
      "cell_type": "markdown",
      "metadata": {},
      "source": [
        "`math` also has constants built in!"
      ]
    },
    {
      "cell_type": "code",
      "execution_count": 4,
      "metadata": {},
      "outputs": [
        {
          "data": {
            "text/plain": [
              "3.141592653589793"
            ]
          },
          "execution_count": 4,
          "metadata": {},
          "output_type": "execute_result"
        }
      ],
      "source": [
        "math.pi"
      ]
    },
    {
      "cell_type": "code",
      "execution_count": null,
      "metadata": {},
      "outputs": [],
      "source": []
    },
    {
      "cell_type": "markdown",
      "metadata": {},
      "source": [
        "## Data types"
      ]
    },
    {
      "cell_type": "markdown",
      "metadata": {},
      "source": [
        "### What's the difference? 🧐"
      ]
    },
    {
      "cell_type": "code",
      "execution_count": null,
      "metadata": {},
      "outputs": [],
      "source": [
        "4 / 2"
      ]
    },
    {
      "cell_type": "code",
      "execution_count": null,
      "metadata": {},
      "outputs": [],
      "source": [
        "5 - 3"
      ]
    },
    {
      "cell_type": "markdown",
      "metadata": {},
      "source": [
        "To us, `2.0` and `2` are the same number, $2$. But to Python, these appear to be different! "
      ]
    },
    {
      "cell_type": "markdown",
      "metadata": {},
      "source": [
        "### Data types\n",
        "- Every value in Python has a **type**.\n",
        "    - Use the `type` function to check a value's type.\n",
        "- It's important to understand how different types work with different operations, as the results may not always be what we expect."
      ]
    },
    {
      "cell_type": "markdown",
      "metadata": {},
      "source": [
        "### Two numeric data types: ```int``` and ```float``` \n",
        "- ```int```: An integer of any size.\n",
        "- ```float```: A number with a decimal point."
      ]
    },
    {
      "cell_type": "markdown",
      "metadata": {},
      "source": [
        "### ```int```\n",
        "- If you add (`+`), subtract (`-`), multiply (`*`), or exponentiate (`**`) `int`s, the result will be another `int`.\n",
        "- `int`s have arbitrary precision in Python, meaning that your calculations will always be exact. "
      ]
    },
    {
      "cell_type": "code",
      "execution_count": null,
      "metadata": {},
      "outputs": [],
      "source": [
        "7 - 15"
      ]
    },
    {
      "cell_type": "code",
      "execution_count": null,
      "metadata": {},
      "outputs": [],
      "source": [
        "type(7 - 15)"
      ]
    },
    {
      "cell_type": "code",
      "execution_count": null,
      "metadata": {},
      "outputs": [],
      "source": [
        "2 ** 300"
      ]
    },
    {
      "cell_type": "code",
      "execution_count": null,
      "metadata": {},
      "outputs": [],
      "source": [
        "2 ** 3000"
      ]
    },
    {
      "cell_type": "markdown",
      "metadata": {},
      "source": [
        "### ```float```\n",
        "* A `float` is specified using a **decimal** point.\n",
        "* A `float` might be printed using scientific notation."
      ]
    },
    {
      "cell_type": "code",
      "execution_count": null,
      "metadata": {},
      "outputs": [],
      "source": [
        "3.2 + 2.5"
      ]
    },
    {
      "cell_type": "code",
      "execution_count": null,
      "metadata": {},
      "outputs": [],
      "source": [
        "type(3.2 + 2.5)"
      ]
    },
    {
      "cell_type": "code",
      "execution_count": null,
      "metadata": {},
      "outputs": [],
      "source": [
        "# The result is in scientific notation: e+90 means \"times 10^90\".\n",
        "2.0 ** 300"
      ]
    },
    {
      "cell_type": "markdown",
      "metadata": {},
      "source": [
        "### The pitfalls of ```float```\n",
        "* `floats` have limited precision; after arithmetic, the final few decimal places can be wrong in unexpected ways.\n",
        "* `float`s have limited size, though the limit is huge."
      ]
    },
    {
      "cell_type": "code",
      "execution_count": null,
      "metadata": {},
      "outputs": [],
      "source": [
        "1 + 0.2"
      ]
    },
    {
      "cell_type": "code",
      "execution_count": null,
      "metadata": {},
      "outputs": [],
      "source": [
        "1 + 0.1 + 0.1"
      ]
    },
    {
      "cell_type": "code",
      "execution_count": null,
      "metadata": {},
      "outputs": [],
      "source": [
        "2.0 ** 3000"
      ]
    },
    {
      "cell_type": "markdown",
      "metadata": {},
      "source": [
        "### Converting between ```int``` and ```float```\n",
        "- If you mix `int`s and `float`s in an expression, the result will always be a `float`.\n",
        "     - Note that when you divide two `int`s, you get a `float` back.\n",
        "- A value can be explicity **coerced** (i.e. converted) using the ```int``` and ```float``` functions."
      ]
    },
    {
      "cell_type": "code",
      "execution_count": null,
      "metadata": {},
      "outputs": [],
      "source": [
        "2.0 + 3"
      ]
    },
    {
      "cell_type": "code",
      "execution_count": null,
      "metadata": {},
      "outputs": [],
      "source": [
        "12 / 2"
      ]
    },
    {
      "cell_type": "code",
      "execution_count": null,
      "metadata": {},
      "outputs": [],
      "source": [
        "int(12 / 2)"
      ]
    },
    {
      "cell_type": "code",
      "execution_count": null,
      "metadata": {},
      "outputs": [],
      "source": [
        "int(-2.9)"
      ]
    },
    {
      "cell_type": "markdown",
      "metadata": {},
      "source": [
        "### Summary\n",
        "\n",
        "- Expressions evaluate to values. Python will display the value of the last expression in a cell by default.\n",
        "- Python knows about all of the standard mathematical operators and follows PEMDAS.\n",
        "- Assignment statements allow us to bind values to variables.\n",
        "- We can call functions in Python similar to how we call functions in math.\n",
        "    - Python knows some functions by default, and import statements allow us to bring additional functionality from modules.\n",
        "- All values in Python have a data type.\n",
        "    - `int`s and `float`s are numbers.\n",
        "    - `int`s are integers, while `float`s contain decimal points."
      ]
    },
    {
      "cell_type": "code",
      "execution_count": null,
      "metadata": {},
      "outputs": [],
      "source": []
    },
    {
      "cell_type": "markdown",
      "metadata": {},
      "source": [
        "## Strings"
      ]
    },
    {
      "cell_type": "markdown",
      "metadata": {},
      "source": [
        "### Strings \n",
        "\n",
        "- A string is a snippet of text of any length.\n",
        "- In Python, strings are enclosed by either single quotes or double quotes (doesn't matter which!)"
      ]
    },
    {
      "cell_type": "code",
      "execution_count": null,
      "metadata": {},
      "outputs": [],
      "source": [
        "'woof'"
      ]
    },
    {
      "cell_type": "code",
      "execution_count": null,
      "metadata": {},
      "outputs": [],
      "source": [
        "type('woof')"
      ]
    },
    {
      "cell_type": "code",
      "execution_count": null,
      "metadata": {},
      "outputs": [],
      "source": [
        "\"woof   🐶🐶\""
      ]
    },
    {
      "cell_type": "code",
      "execution_count": null,
      "metadata": {},
      "outputs": [],
      "source": [
        "# A string, not an int!\n",
        "\"1998\" + \"45\""
      ]
    },
    {
      "cell_type": "markdown",
      "metadata": {},
      "source": [
        "### String arithmetic\n",
        "\n",
        "When using the `+` symbol between two strings, the operation is called \"concatenation\"."
      ]
    },
    {
      "cell_type": "code",
      "execution_count": null,
      "metadata": {},
      "outputs": [],
      "source": [
        "s1 = 'baby'\n",
        "s2 = '🐼'"
      ]
    },
    {
      "cell_type": "code",
      "execution_count": null,
      "metadata": {},
      "outputs": [],
      "source": [
        "s1 + s2"
      ]
    },
    {
      "cell_type": "code",
      "execution_count": null,
      "metadata": {},
      "outputs": [],
      "source": [
        "s1 + ' ' + s2"
      ]
    },
    {
      "cell_type": "code",
      "execution_count": null,
      "metadata": {},
      "outputs": [],
      "source": [
        "s1 * 3 # multiplication is repeated addition, same as s1 + s1 + s1"
      ]
    },
    {
      "cell_type": "markdown",
      "metadata": {},
      "source": [
        "### String methods\n",
        "* Associated with strings are special functions, called **string methods**.\n",
        "* Access string methods with a `.` after the string (\"dot notation\").    \n",
        "    * For instance, to use the `upper` method on string `s`, we write `s.upper()`.\n",
        "* Examples include `upper`, `title`, and `replace`, but there are [many more](https://docs.python.org/3/library/stdtypes.html#string-methods)."
      ]
    },
    {
      "cell_type": "code",
      "execution_count": null,
      "metadata": {},
      "outputs": [],
      "source": [
        "my_cool_string = 'data science is super cool!'"
      ]
    },
    {
      "cell_type": "code",
      "execution_count": null,
      "metadata": {},
      "outputs": [],
      "source": [
        "my_cool_string.title()"
      ]
    },
    {
      "cell_type": "code",
      "execution_count": null,
      "metadata": {},
      "outputs": [],
      "source": [
        "my_cool_string.upper()"
      ]
    },
    {
      "cell_type": "code",
      "execution_count": null,
      "metadata": {},
      "outputs": [],
      "source": [
        "my_cool_string.replace('super cool', '💯' * 3)"
      ]
    },
    {
      "cell_type": "code",
      "execution_count": null,
      "metadata": {},
      "outputs": [],
      "source": [
        "\"hello\".upper()"
      ]
    },
    {
      "cell_type": "code",
      "execution_count": null,
      "metadata": {},
      "outputs": [],
      "source": [
        "# len is not a method, since it doesn't use dot notation.\n",
        "len(my_cool_string)"
      ]
    },
    {
      "cell_type": "markdown",
      "metadata": {
        "id": "jCoV5b4QtIZ2"
      },
      "source": [
        "# Lists"
      ]
    },
    {
      "cell_type": "markdown",
      "metadata": {
        "id": "TQIkFeKzv19y"
      },
      "source": [
        "## What is a list?\n",
        "\n",
        "A list is an ordered sequence of values\n",
        "\n",
        "A list of integers:\n",
        "- [3, 1, 4, 1, 5, 9]\n",
        "\n",
        "A list of strings:\n",
        "- [\"Once\", \"upon\", \"a\", \"time\", \"there\"]\n",
        "\n",
        "\n",
        "Each value has an index\n",
        "- for [3, 1, 4, 1, 5, 9]\n",
        "\n",
        "| Index| 0 | 1 | 2| 3 | 4 | 5 |\n",
        "| ----- | - | - | - | - | - | - |\n",
        "| List Entry  | 3 | 1 | 4 | 1 | 5 | 9 |\n",
        "\n",
        "\n",
        "Indexing is zero-based (counting starts with zero):\n",
        "\n"
      ]
    },
    {
      "cell_type": "markdown",
      "metadata": {
        "id": "RUam9sn_tm5o"
      },
      "source": [
        "## Loop Examples\n",
        "\n",
        "[see in python tutor](https://tinyurl.com/y6a34bpd)"
      ]
    },
    {
      "cell_type": "code",
      "execution_count": null,
      "metadata": {
        "id": "YPH0J843st2y"
      },
      "outputs": [],
      "source": [
        "for num in [2, 4, 6]:\n",
        "    print(num)"
      ]
    },
    {
      "cell_type": "code",
      "execution_count": null,
      "metadata": {
        "id": "NNgWCMOXuMWT"
      },
      "outputs": [],
      "source": [
        "for i in [1, 2, 3]:\n",
        "    print(\"Hi there!\")"
      ]
    },
    {
      "cell_type": "code",
      "execution_count": null,
      "metadata": {
        "id": "N9Wq6NawuWZu"
      },
      "outputs": [],
      "source": [
        "for char in \"happy\": #sequence is a string, NOT a list\n",
        "    print(char)      #prints the values of sequence"
      ]
    },
    {
      "cell_type": "markdown",
      "metadata": {
        "id": "XShWGRSOueDB"
      },
      "source": [
        "## The range function\n",
        "\n",
        "A typical for loop does not use an explicit list:\n",
        "\n",
        "In the following,\n",
        "```\n",
        "for i in range(5):\n",
        "  … body\n",
        "```\n",
        "range(5) produced the numbers in the sequence [0, 1, 2, 3, 4]\n",
        " - note that range(5) __is not__ the same as the list [0, 1 ,2, 3, 4]\n",
        " - list(range(5)) is equivalent to the list [0, 1, 2, 3, 4]\n",
        "\n",
        "\n",
        "\n",
        "__Detailed usage (1, 2, or 3 arguments)__\n",
        "\n",
        "- range(5): cycles through [0, 1, 2, 3, 4] -> __Upper limit (exclusive)__\n",
        "\n",
        "- range(1, 5): cycles through [1, 2, 3, 4] -> __Lower limit (inclusive)__\n",
        "\n",
        "- range(1, 10, 2): cycles through [1, 3, 5, 7, 9] -> __step (distance between elements)__\n",
        "\n"
      ]
    },
    {
      "cell_type": "code",
      "execution_count": null,
      "metadata": {
        "id": "tgJIn2nxxluC"
      },
      "outputs": [],
      "source": [
        "# Getting length of a list\n",
        "print(len([3,1,4,1,5,9]))"
      ]
    },
    {
      "cell_type": "markdown",
      "metadata": {
        "id": "kYYMv2TTxPrI"
      },
      "source": [
        "## List Operations\n",
        "\n",
        "What operations should a list support efficiently and conveniently?\n",
        "- Creation\n",
        "- Querying\n",
        "- Modification\n"
      ]
    },
    {
      "cell_type": "markdown",
      "metadata": {
        "id": "JchUJUGuxXZ5"
      },
      "source": [
        "## List Creation\n",
        "- run the following cells from __top to bottom__\n",
        "- [see in python tutor](https://tinyurl.com/thb52x)"
      ]
    },
    {
      "cell_type": "code",
      "execution_count": null,
      "metadata": {
        "id": "MCyoIXEPwPXA"
      },
      "outputs": [],
      "source": [
        "a = [3, 1, 2 * 2, 1, 10 / 2, 10 - 1]\n",
        "print(a)"
      ]
    },
    {
      "cell_type": "code",
      "execution_count": null,
      "metadata": {
        "id": "IJciDP_5xyOU"
      },
      "outputs": [],
      "source": [
        "b = [5, 3, 'hi']\n",
        "print(b)"
      ]
    },
    {
      "cell_type": "code",
      "execution_count": null,
      "metadata": {
        "id": "dtpq7-BFx4eH"
      },
      "outputs": [],
      "source": [
        "c = [4, 'a', a]\n",
        "print(c)"
      ]
    },
    {
      "cell_type": "code",
      "execution_count": null,
      "metadata": {
        "id": "OMsrNgv_x67a"
      },
      "outputs": [],
      "source": [
        "d = [[1, 2], [3, 4], [5, 6]]\n",
        "print(d)"
      ]
    },
    {
      "cell_type": "markdown",
      "metadata": {
        "id": "bIx0aUvgyjV0"
      },
      "source": [
        "## List Querying\n",
        "\n",
        "Expressions that return parts of lists:\n",
        "\n",
        "\n",
        "Single element:  \t\t__mylist[index]__\n",
        "\n",
        "- The single element stored at that location\n",
        "\n"
      ]
    },
    {
      "cell_type": "code",
      "execution_count": null,
      "metadata": {
        "id": "T12pCuLOy37S"
      },
      "outputs": [],
      "source": [
        "l = [3,1,4,1,5,9]\n",
        "print(l[2])"
      ]
    },
    {
      "cell_type": "markdown",
      "metadata": {
        "id": "4RleoozgyrUQ"
      },
      "source": [
        "Sublist (“slicing”):  \t__mylist[start:end]__\n",
        "\n",
        "- the sublist that starts at *start*\n",
        "\n",
        "- index start and ends at index *end – 1*\n",
        "\n",
        "- If start is omitted: defaults to 0\n",
        "\n",
        "- If end is omitted: defaults to len(mylist)\n",
        "\n",
        "- mylist[:] and mylist[0:len(mylist)] both evaluate to the whole list"
      ]
    },
    {
      "cell_type": "code",
      "execution_count": null,
      "metadata": {
        "id": "Z4c063y9ylRj"
      },
      "outputs": [],
      "source": [
        "a = [0, 1, 2, 3, 4]\n",
        "print(a[0])"
      ]
    },
    {
      "cell_type": "code",
      "execution_count": null,
      "metadata": {
        "id": "5Ed3EHpYotXU"
      },
      "outputs": [],
      "source": [
        "a = [0, 1, 2, 3, 4]\n",
        "print(a[5])"
      ]
    },
    {
      "cell_type": "code",
      "execution_count": null,
      "metadata": {
        "id": "Hn5mFLRJozsP"
      },
      "outputs": [],
      "source": [
        "a = [0, 1, 2, 3, 4]\n",
        "print(a[6])"
      ]
    },
    {
      "cell_type": "code",
      "execution_count": null,
      "metadata": {
        "id": "v3A_j2Cuo41a"
      },
      "outputs": [],
      "source": [
        "a = [0, 1, 2, 3, 4]\n",
        "print(a[-1]) # last element in list"
      ]
    },
    {
      "cell_type": "code",
      "execution_count": null,
      "metadata": {
        "id": "5vylK-Mio71D"
      },
      "outputs": [],
      "source": [
        "a = [0, 1, 2, 3, 4]\n",
        "print(a[-2]) # next to last element"
      ]
    },
    {
      "cell_type": "code",
      "execution_count": null,
      "metadata": {
        "id": "rHYGDWWLo-BJ"
      },
      "outputs": [],
      "source": [
        "a = [0, 1, 2, 3, 4]\n",
        "print(a[0:2])"
      ]
    },
    {
      "cell_type": "code",
      "execution_count": null,
      "metadata": {
        "id": "uiVT34HGzSf0"
      },
      "outputs": [],
      "source": [
        "a = [0, 1, 2, 3, 4]\n",
        "print(a[0:-1])"
      ]
    },
    {
      "cell_type": "markdown",
      "metadata": {
        "id": "M2Vhwk8VZsJ9"
      },
      "source": [
        "## List Modification\n",
        "- Insertion\n",
        "- Removal\n",
        "- Replacement\n",
        "- Rearrangement"
      ]
    },
    {
      "cell_type": "markdown",
      "metadata": {
        "id": "51XL-aoZZ5zt"
      },
      "source": [
        "### List insertions\n",
        "mylist.append(x)\n",
        "\n",
        "- Extend mylist by inserting x at the end\n",
        "\n",
        "mylist.extend(L)\n",
        "- Extend mylist by appending all the items in the argument list L to the end of mylist\n",
        "\n",
        "ylist.insert(i, x)\n",
        "- Insert item x before position i.\n",
        "\n",
        "a.insert(0, x)\n",
        "- inserts at the front of the list\n",
        "\n",
        "a.insert(len(a), x)\n",
        "- is equivalent to    a.append(x)"
      ]
    },
    {
      "cell_type": "code",
      "execution_count": null,
      "metadata": {
        "id": "RTieqc6yakOO"
      },
      "outputs": [],
      "source": [
        "lst = [1, 2, 3, 4]\n",
        "lst.append(5)\n",
        "print(lst)"
      ]
    },
    {
      "cell_type": "code",
      "execution_count": null,
      "metadata": {
        "id": "FILXF0TramVJ"
      },
      "outputs": [],
      "source": [
        "lst = [1, 2, 3, 4]\n",
        "lst.extend([6, 7, 8])\n",
        "print(lst)"
      ]
    },
    {
      "cell_type": "code",
      "execution_count": null,
      "metadata": {
        "id": "_Ja3V9Mramo9"
      },
      "outputs": [],
      "source": [
        "lst = [1, 2, 3, 4]\n",
        "lst.insert(3, 3.5)\n",
        "print(lst)"
      ]
    },
    {
      "cell_type": "markdown",
      "metadata": {
        "id": "68aGQQgca8UK"
      },
      "source": [
        "__Comprehension check__\n",
        "\n",
        "Which of the following is printed by the code below\n",
        "\n",
        "- A) 4\n",
        "- B) 5\n",
        "- C) 2\n",
        "- D) [4, 6]\n",
        "- E) IndexError: list index out of range\n",
        "\n",
        "\n",
        "```\n",
        "lst = [1, 3, 5]\n",
        "lst.insert(2, [4, 6])\n",
        "print(lst[2])\n",
        "```\n",
        "\n",
        "\n"
      ]
    },
    {
      "cell_type": "code",
      "execution_count": null,
      "metadata": {
        "id": "-qhC9yTqZtK2"
      },
      "outputs": [],
      "source": [
        "lst = [1, 3, 5]\n",
        "lst.insert(2, [4, 6])\n",
        "print(lst[2])"
      ]
    },
    {
      "cell_type": "markdown",
      "metadata": {
        "id": "etqfoSqSbnkq"
      },
      "source": [
        "### List removal\n",
        "\n",
        "mylist.remove(x)\n",
        "- Remove the first item from the list whose value is x\n",
        "- It is an error if there is no such item\n",
        "- __Returns None__\n",
        "\n",
        "\n",
        "\n",
        "mylist.pop([i])\n",
        "- Remove the item at the given position in the list, and return it.\n",
        "- If no index is given, mylist.pop() removes and returns the last item in the list.\n",
        "- Notation from the Python Library Reference: *The square brackets around the parameter, “[i]”, means the argument is optional.\n",
        "It does not mean you should type square brackets at that position.*"
      ]
    },
    {
      "cell_type": "code",
      "execution_count": null,
      "metadata": {
        "id": "HHqPpn9bceG_"
      },
      "outputs": [],
      "source": [
        "#Examples\n",
        "lst = [1, 2, 3, 4, 5, 6, 7]\n",
        "print(lst.pop())"
      ]
    },
    {
      "cell_type": "code",
      "execution_count": null,
      "metadata": {
        "id": "HKOJxAjmcey_"
      },
      "outputs": [],
      "source": [
        "lst = [1, 2, 3, 4, 5, 6, 7]\n",
        "print(lst.pop(1))"
      ]
    },
    {
      "cell_type": "code",
      "execution_count": null,
      "metadata": {
        "id": "HBmlaXn1chJx"
      },
      "outputs": [],
      "source": [
        "lst = [1, 2, 3, 4, 5, 6, 7]\n",
        "print(lst.remove(3))\n"
      ]
    },
    {
      "cell_type": "code",
      "execution_count": null,
      "metadata": {
        "id": "Tn2ADySFcqWE"
      },
      "outputs": [],
      "source": [
        "lst = [1, 2, 3, 4, 5, 6, 7]\n",
        "lst.remove(3)\n",
        "print(lst)"
      ]
    },
    {
      "cell_type": "markdown",
      "metadata": {
        "id": "E-qh_8TCcBCk"
      },
      "source": [
        "### List replacement\n",
        "\n",
        "\n",
        "```\n",
        "mylist[index] = new_value\n",
        "mylist[start:end] = new_sublist\n",
        "```\n",
        "Replaces mylist[start]  to   mylist[end – 1] with new_sublist\n",
        "\n",
        "\n",
        "Can change the length of the list\n",
        "\n",
        "Examples:\n",
        "```\n",
        "mylist[start:end] = []\n",
        "```\n",
        "removes mylist[start]… mylist[end – 1]\n",
        "```\n",
        "mylist[len(mylist):] = L\n",
        "```\n",
        "is equivalent to a.extend(L)\n"
      ]
    },
    {
      "cell_type": "code",
      "execution_count": null,
      "metadata": {
        "id": "O4C0ijvFbTPv"
      },
      "outputs": [],
      "source": [
        "#Examples\n",
        "lst = [1, 2, 3, 4, 5, 6, 7]\n",
        "lst[3] = 'blue'\n",
        "print(lst)"
      ]
    },
    {
      "cell_type": "code",
      "execution_count": null,
      "metadata": {
        "id": "ViDD6rzlc2dU"
      },
      "outputs": [],
      "source": [
        "lst = [1, 2, 3, 4, 5, 6, 7]\n",
        "lst[1:3] = [10, 11, 12]\n",
        "print(lst)"
      ]
    },
    {
      "cell_type": "markdown",
      "metadata": {
        "id": "8gssiQthc8ld"
      },
      "source": [
        "### List Rearrangement\n",
        "\n",
        "mylist.sort()\n",
        "- Sort the items of the list, in place.\n",
        "- “in place” means by modifying the original list,\n",
        "not by creating a new list.\n",
        "\n",
        "mylist.reverse()\n",
        "- Reverse the elements of the list, in place.\n",
        "\n",
        "both sort() and reverse() __return none__\n",
        "\n",
        "\n",
        "\n",
        "\n"
      ]
    },
    {
      "cell_type": "code",
      "execution_count": null,
      "metadata": {
        "id": "yFzF8Wgzc9Oy"
      },
      "outputs": [],
      "source": [
        "#Example\n",
        "lst = [1, 2, 3, 4, 5, 6, 7]\n",
        "lst.reverse()\n",
        "print(lst)\n",
        "lst.sort()\n",
        "print(lst)"
      ]
    },
    {
      "cell_type": "markdown",
      "metadata": {
        "id": "3bhNhq7vdUep"
      },
      "source": [
        "### List modification examples\n",
        "\n",
        "- [see in python tutor](https://tinyurl.com/z2ktkhf2)"
      ]
    },
    {
      "cell_type": "code",
      "execution_count": null,
      "metadata": {
        "id": "SZ4cVvz3dTnF"
      },
      "outputs": [],
      "source": [
        "lst = [10, 12, 23, 54, 15]\n",
        "lst.append(7)\n",
        "lst.extend([8, 9, 3])\n",
        "lst.insert(2, 2.75)\n",
        "lst.remove(3)\n",
        "print(lst.pop())\n",
        "print(lst.pop(4))\n",
        "lst[1:5] = [20, 21, 22]\n",
        "lst2 = [4, 6, 8, 2, 0]\n",
        "lst2.sort()\n",
        "lst2.reverse()\n",
        "lst3 = lst2\n",
        "lst4 = lst2[:]\n",
        "lst2[-1]= 17\n",
        "\n",
        "print(lst)\n",
        "print(lst2)\n",
        "print(lst3)\n",
        "print(lst4)"
      ]
    },
    {
      "cell_type": "markdown",
      "metadata": {
        "id": "V8v7WV3qd6yt"
      },
      "source": [
        "## List operations comprehension check\n",
        "\n",
        "1. What will convert list a into [1, 2, 3, 4, 5]\n",
        "\n",
        "a = [1, 3, 5]\n",
        "\n",
        "- A. a.insert(1, 2)\n",
        "\n",
        "    a.insert(2, 4)\n",
        "- B. a[1:2] = [2, 3, 4]\n",
        "- C. a.extend([2, 4])\n",
        "- D. a[1] = 2\n",
        "\n",
        "     a[3] = 4\n"
      ]
    },
    {
      "cell_type": "markdown",
      "metadata": {
        "id": "FPFliXyMbus2"
      },
      "source": [
        "## Excercise: List lookup\n",
        "\n"
      ]
    },
    {
      "cell_type": "markdown",
      "metadata": {
        "id": "c1GprCAmcAd2"
      },
      "source": [
        "Goal: implement the following ([see in python tutor](https://tinyurl.com/5dme2skr))\n",
        "\n",
        "```\n",
        "def my_index(lst, value):\n",
        "  \"\"\"Return the position of the first occurrence\n",
        "  of value in the list lst. Return None if value\n",
        "  does not appear in lst.\"\"\"\n",
        "```\n",
        "\n",
        "Examples:\n",
        "\n",
        "story = [\"Once\", \"upon\", \"a\", \"time\", \"there\", \"was\", \"a\"]\n",
        "\n",
        "my_index(story, \"a\") → 2\n",
        "\n",
        "my_index(story, \"there\") → 4\n",
        "\n",
        "__Note__ :  my_list[my_index(my_list, x)] == x"
      ]
    },
    {
      "cell_type": "code",
      "execution_count": null,
      "metadata": {
        "id": "p6lhJT2gca8H"
      },
      "outputs": [],
      "source": [
        "def my_index(lst, value):\n",
        "  \"\"\"Return the position of the first\n",
        "  occurrence of value in the list lst.\n",
        "  Return None if value does not appear\n",
        "  in lst.\"\"\"\n"
      ]
    },
    {
      "cell_type": "markdown",
      "metadata": {
        "id": "3koDEbfcdJ2J"
      },
      "source": [
        "## Exercise:  Convert Units\n",
        "\n",
        "([see in python tutor](https://tinyurl.com/rccvsf49))\n",
        "\n",
        "Using the following:\n",
        "\n",
        "```\n",
        "def cent_to_fahr(cent):\n",
        "  return cent / 5.0 * 9 + 32\n",
        "\n",
        "ctemps = [-40, 0, 20, 37, 100]\n",
        "\n",
        "ftemps = []\n",
        "```\n",
        "Without setting it directly, set ftemps to [-40, 32, 68, 98.6, 212]\n"
      ]
    },
    {
      "cell_type": "code",
      "execution_count": null,
      "metadata": {
        "id": "y1keQNwrd2Qi"
      },
      "outputs": [],
      "source": []
    },
    {
      "cell_type": "markdown",
      "metadata": {
        "id": "JuR7bwzkd-l0"
      },
      "source": [
        "## More on list slicing\n",
        "\n",
        "mylist[startindex:endindex] evaluates to a sublist of the original list\n",
        "    \n",
        "  - mylist[index] evaluates to an element of the original list\n",
        "\n",
        "- Arguments are like those to the range function\n",
        "mylist[start:end:step]\n",
        "  - start index is inclusive, end index is exclusive\n",
        "  - All 3 indices are optional\n",
        "  - Can assign to a slice:  mylist[s:e] = yourlist\n"
      ]
    },
    {
      "cell_type": "markdown",
      "metadata": {
        "id": "UJTyaECgea7o"
      },
      "source": [
        "Example ([see in python tutor](https://tinyurl.com/y2cvczn6)):"
      ]
    },
    {
      "cell_type": "code",
      "execution_count": null,
      "metadata": {
        "id": "IaZIXHbsefd-"
      },
      "outputs": [],
      "source": [
        "test_list = ['e0', 'e1', 'e2', 'e3', 'e4', 'e5', 'e6']\n",
        "my_list = test_list[2:]\n",
        "print(my_list)"
      ]
    },
    {
      "cell_type": "code",
      "execution_count": null,
      "metadata": {
        "id": "_DD7vor-ewZk"
      },
      "outputs": [],
      "source": [
        "test_list = ['e0', 'e1', 'e2', 'e3', 'e4', 'e5', 'e6']\n",
        "my_list = test_list[:5]\n",
        "print(my_list)"
      ]
    },
    {
      "cell_type": "code",
      "execution_count": null,
      "metadata": {
        "id": "X51kNkoQexlV"
      },
      "outputs": [],
      "source": [
        "test_list = ['e0', 'e1', 'e2', 'e3', 'e4', 'e5', 'e6']\n",
        "my_list = test_list[-1]\n",
        "print(my_list)"
      ]
    },
    {
      "cell_type": "code",
      "execution_count": null,
      "metadata": {
        "id": "p4x7iYcYeyzN"
      },
      "outputs": [],
      "source": [
        "test_list = ['e0', 'e1', 'e2', 'e3', 'e4', 'e5', 'e6']\n",
        "my_list = test_list[-4:]\n",
        "print(my_list)"
      ]
    },
    {
      "cell_type": "code",
      "execution_count": null,
      "metadata": {
        "id": "3AteLFT_ezJV"
      },
      "outputs": [],
      "source": [
        "test_list = ['e0', 'e1', 'e2', 'e3', 'e4', 'e5', 'e6']\n",
        "my_list = test_list[:-3]\n",
        "print(my_list)"
      ]
    },
    {
      "cell_type": "code",
      "execution_count": null,
      "metadata": {
        "id": "6v80aMdUezgx"
      },
      "outputs": [],
      "source": [
        "test_list = ['e0', 'e1', 'e2', 'e3', 'e4', 'e5', 'e6']\n",
        "my_list = test_list[:]\n",
        "print(my_list)"
      ]
    },
    {
      "cell_type": "code",
      "execution_count": null,
      "metadata": {
        "id": "IU4OPmkbfCO8"
      },
      "outputs": [],
      "source": [
        "test_list = ['e0', 'e1', 'e2', 'e3', 'e4', 'e5', 'e6']\n",
        "my_list = test_list[::-1]\n",
        "print(my_list)"
      ]
    },
    {
      "cell_type": "markdown",
      "metadata": {
        "id": "R4h1LvtFfW4S"
      },
      "source": [
        "__Answer__\n",
        "\n",
        "test_list[2:]\t\tFrom e2 to the end of the list\n",
        "\n",
        "test_list[:5]\t\tFrom beginning up to (but not including) e5\n",
        "\n",
        "test_list[-1]\t\tLast element\n",
        "\n",
        "test_list[-4:]\t    Last four elements\n",
        "\n",
        "test_list[:-3]\t    Everything except last three elements\n",
        "\n",
        "test_list[:]\t\t    Get a copy of the whole list\n",
        "\n",
        "test_list[::-1]\t    Reverse the list"
      ]
    },
    {
      "cell_type": "markdown",
      "metadata": {
        "id": "2r5ABXndfhQV"
      },
      "source": [
        "## How to evaluate a list expression\n",
        "\n",
        "There are two new forms of expression:\n",
        "- List creation (aka, list literals):   [1, 2, 3, 4]\n",
        "- List indexing (aka, dereferencing): a[i]\n",
        "\n",
        "__Note:__ In the previous examples, there are the same tokens “[]” with two distinct meanings"
      ]
    },
    {
      "cell_type": "markdown",
      "metadata": {
        "id": "hbV7G0Anf7zB"
      },
      "source": [
        "## Evaluating list expressions\n",
        "\n",
        "[a, b, c, d]\t\tlist __creation__\n",
        "  - To evaluate:\n",
        "    - evaluate each element to a value, from left to right\n",
        "    - make a list of the values\n",
        "  -The elements can be arbitrary values, including lists:\n",
        "    - [\"a\", 3, fahr_to_cent(-40), [3 + 4, 5 * 6]]\n"
      ]
    },
    {
      "cell_type": "markdown",
      "metadata": {
        "id": "lG13o6degcuw"
      },
      "source": [
        "a[b] \t\tlist __indexing__\n",
        "\n",
        "a is the list expression, b is the index\n",
        "\n",
        "- To evaluate:\n",
        "  - evaluate the list expression to a value\n",
        "  - evaluate the index expression to a value\n",
        "  - if the list value is not a list, execution terminates with an error\n",
        "  - if the element is not in range (not a valid index), execution terminates with an error\n",
        "  - the value is the given element of the list value (counting from zero)\n"
      ]
    },
    {
      "cell_type": "markdown",
      "metadata": {
        "id": "Na-g_2K7gvfQ"
      },
      "source": [
        "### List expression examples\n",
        "\n",
        "What does this mean (or is it an error)? ([see in python tutor](https://tinyurl.com/y5sg98eo))"
      ]
    },
    {
      "cell_type": "code",
      "execution_count": null,
      "metadata": {
        "id": "U6dkR2qdgysO"
      },
      "outputs": [],
      "source": [
        "[\"Once\", \"upon\", \"a\", \"time\", \"there\"][2]"
      ]
    },
    {
      "cell_type": "code",
      "execution_count": null,
      "metadata": {
        "id": "jFDQnHOHg2vW"
      },
      "outputs": [],
      "source": [
        "[\"Once\", \"upon\", \"a\", \"time\", \"there\"][0,2,3]"
      ]
    },
    {
      "cell_type": "code",
      "execution_count": null,
      "metadata": {
        "id": "ac_Wn36dg_K5"
      },
      "outputs": [],
      "source": [
        "[\"Once\", \"upon\", \"a\", \"time\", \"there\"][[0,2,3]]"
      ]
    },
    {
      "cell_type": "code",
      "execution_count": null,
      "metadata": {
        "id": "w5B12Owwg31Y"
      },
      "outputs": [],
      "source": [
        "[\"Once\", \"upon\", \"a\", \"time\", \"there\"][[0,2,3][1]]"
      ]
    },
    {
      "cell_type": "markdown",
      "metadata": {
        "id": "L-UngV-0ee67"
      },
      "source": [
        "## Two dimensional nested lists\n",
        "\n",
        "Each single element within mylist is __also a list__.\n",
        "\n",
        "(Remember: a list can contain just about anything.)\n"
      ]
    },
    {
      "cell_type": "code",
      "execution_count": null,
      "metadata": {
        "id": "KECLjTV8hVuo"
      },
      "outputs": [],
      "source": [
        "mylist = [\n",
        "  [1, 2, 3],\n",
        "  [4, 5, 6],\n",
        "  [7, 8, 9]\n",
        "]"
      ]
    },
    {
      "cell_type": "markdown",
      "metadata": {
        "id": "hjXlrYiMhSxk"
      },
      "source": [
        "mylist[0] evaluates to a list"
      ]
    },
    {
      "cell_type": "code",
      "execution_count": null,
      "metadata": {
        "id": "NbSBwn8vhcT8"
      },
      "outputs": [],
      "source": [
        "mylist = [\n",
        "  [1, 2, 3],\n",
        "  [4, 5, 6],\n",
        "  [7, 8, 9]\n",
        "]\n",
        "mylist[0]"
      ]
    },
    {
      "cell_type": "markdown",
      "metadata": {
        "id": "wvvTOpJuho_K"
      },
      "source": [
        "mylist[0] is an expression that evaluates to the first item in mylist. This just happens to also be another list expression\n",
        "\n",
        "mylist[0][0] evaluates to the first element of the first list in the nested list\n"
      ]
    },
    {
      "cell_type": "code",
      "execution_count": null,
      "metadata": {
        "id": "t7djf8qQeIJT"
      },
      "outputs": [],
      "source": [
        "mylist = [\n",
        "  [1, 2, 3],\n",
        "  [4, 5, 6],\n",
        "  [7, 8, 9]\n",
        "]\n",
        "mylist[0][0]"
      ]
    },
    {
      "cell_type": "markdown",
      "metadata": {
        "id": "VtmY2ZQBh9tb"
      },
      "source": [
        "Note the double square brackets below. Adding a list within a list within a list.\n",
        "\n",
        "> Add blockquote\n",
        "\n"
      ]
    },
    {
      "cell_type": "code",
      "execution_count": null,
      "metadata": {
        "id": "LVw-98vUhfsJ"
      },
      "outputs": [],
      "source": [
        "mylist = [\n",
        "  [1, 2, 3],\n",
        "  [4, 5, 6],\n",
        "  [7, 8, 9]\n",
        "]\n",
        "mylist.append([[10,11,12]])\n",
        "print(mylist)"
      ]
    },
    {
      "cell_type": "markdown",
      "metadata": {
        "id": "2F7VDci1h_RL"
      },
      "source": [
        "Recall that items within a list don't have to all be the same type. What will the following do?\n"
      ]
    },
    {
      "cell_type": "code",
      "execution_count": null,
      "metadata": {
        "id": "WeWLWrQqhiRf"
      },
      "outputs": [],
      "source": [
        "mylist[0][0][0]"
      ]
    },
    {
      "cell_type": "markdown",
      "metadata": {},
      "source": [
        "# Dictionaries\n",
        "\n",
        "**Dictionaries** are a data structure that allows us to map **keys** to **values**. This is incredibly helpful! However there are some considerations that we must have when using **dictionaries**. We will see these in examples below!"
      ]
    },
    {
      "cell_type": "markdown",
      "metadata": {},
      "source": [
        "Dictionaries map **keys** to **values**. Lets take a look at this"
      ]
    },
    {
      "cell_type": "code",
      "execution_count": null,
      "metadata": {},
      "outputs": [],
      "source": [
        "value1 = 1\n",
        "value2 = 2\n",
        "value3 = 3\n",
        "value4 = 4\n",
        "\n",
        "# Lets create a dictionary\n",
        "my_dictionary = {\n",
        "    \"key1\": value1,\n",
        "    \"key2\": value2,\n",
        "    \"key3\": value3,\n",
        "    \"key4\": value4\n",
        "}"
      ]
    },
    {
      "cell_type": "markdown",
      "metadata": {},
      "source": [
        "The **order** of the keys inside your dictionary does not matter"
      ]
    },
    {
      "cell_type": "code",
      "execution_count": null,
      "metadata": {},
      "outputs": [],
      "source": [
        "# Lets make a dictionary with the same contents but different key order\n",
        "my_dictionary_diff_order = {\n",
        "    \"key3\": value3,\n",
        "    \"key2\": value2,\n",
        "    \"key1\": value1,\n",
        "    \"key4\": value4\n",
        "}\n",
        "\n",
        "# Lets test if our dictionaries are the same\n",
        "my_dictionary == my_dictionary_diff_order"
      ]
    },
    {
      "cell_type": "markdown",
      "metadata": {},
      "source": [
        "Let's try having non **unique keys**"
      ]
    },
    {
      "cell_type": "code",
      "execution_count": null,
      "metadata": {},
      "outputs": [],
      "source": [
        "# Lets create a dictionary with repeating keys\n",
        "my_dictionary_rep_keys = {\n",
        "    \"key1\": value1,\n",
        "    \"key1\": value1,\n",
        "    \"key1\": value1,\n",
        "    \"key4\": value1\n",
        "}"
      ]
    },
    {
      "cell_type": "markdown",
      "metadata": {},
      "source": [
        "The **keys** must be **immutable data types**. **Mutable data types** include: lists, sets, and dictionaries (so don't use these as your keys)! However, **mutable** data types can be used as the values in your dictionary."
      ]
    },
    {
      "cell_type": "code",
      "execution_count": null,
      "metadata": {},
      "outputs": [],
      "source": [
        "# Lets create a dictionary using these guidlines\n",
        "my_dictionary = {\n",
        "    \"key\": [1, 2],\n",
        "    42: \"The answer\",\n",
        "    0: None,\n",
        "    33.2: 22.3\n",
        "}"
      ]
    },
    {
      "cell_type": "markdown",
      "metadata": {},
      "source": [
        "Now that we know a bit about **dictionaries**, lets see what we can do with them. With dictionaries we can **create**, **query** (access), and **modify**. lets take a look at this!"
      ]
    },
    {
      "cell_type": "markdown",
      "metadata": {},
      "source": [
        "**Creating** a dictionary"
      ]
    },
    {
      "cell_type": "code",
      "execution_count": null,
      "metadata": {},
      "outputs": [],
      "source": [
        "d1 = {}\n",
        "d2 = dict()\n",
        "# d1 and d2 are now empty dictionaries\n",
        "\n",
        "favorite_colors = {\n",
        "    \"asfg\": \"Blue\",\n",
        "    \"among\": \"Blue\",\n",
        "    \"paolopan\": \"yellow\",\n",
        "    \"sg721\": \"green\"\n",
        "}\n",
        "# favorite_colors is now a dictionary with some inital keys and values"
      ]
    },
    {
      "cell_type": "code",
      "execution_count": null,
      "metadata": {},
      "outputs": [],
      "source": [
        "state_capitals = {\"GA\" : \"Atlanta\", \"WA\": \"Olympia\" }\n",
        "\n",
        "phonebook = dict()\n",
        "phonebook[\"Alice\"] = \"206-555-4455\"\n",
        "phonebook[\"Bob\"] = \"212-555-2211\"\n",
        "\n",
        "atomic_number = {}\n",
        "atomic_number[\"H\"] = 1\n",
        "atomic_number[\"Fe\"] = 26\n",
        "atomic_number[\"Au\"] = 79"
      ]
    },
    {
      "cell_type": "markdown",
      "metadata": {},
      "source": [
        "**Accessing** a dictionary"
      ]
    },
    {
      "cell_type": "code",
      "execution_count": null,
      "metadata": {},
      "outputs": [],
      "source": [
        "atomic_number = {\"H\": 1, \"Fe\": 26, \"Au\": 79}\n",
        "\n",
        "# Lets print the values contained by the key \"Au\"\n",
        "print(atomic_number[\"Au\"])\n",
        "\n",
        "# What about if we use a key that does not exist in our dictionary?\n",
        "# print(atomic_number[\"B\"])\n",
        "\n",
        "# Lets check if the key \"Au\" is in our dictionary\n",
        "print(\"Au\" in atomic_number)\n",
        "\n",
        "# Lets check if the value 26 is in our dictionary\n",
        "print(26 in atomic_number)\n",
        "\n",
        "# Lets print the keys of our dictionary\n",
        "print(atomic_number.keys())\n",
        "print(list(atomic_number.keys()))\n",
        "\n",
        "# Lets print the values of our dictionary\n",
        "print(atomic_number.values())\n",
        "print(list(atomic_number.values()))\n",
        "\n",
        "print(list(atomic_number.items()))"
      ]
    },
    {
      "cell_type": "markdown",
      "metadata": {},
      "source": [
        "**Iterating** through a dictionary"
      ]
    },
    {
      "cell_type": "code",
      "execution_count": null,
      "metadata": {},
      "outputs": [],
      "source": [
        "# We will use the atomic_number we had created above\n",
        "\n",
        "# Print out all the keys: \n",
        "for element_name in atomic_number.keys():\n",
        "    print(element_name)\n",
        "\n",
        "# Another way to print out all the keys: \n",
        "for element_name in atomic_number:\n",
        "    print(element_name)\n",
        "    \n",
        "# Print out all the values: \n",
        "for element_number in atomic_number.values():\n",
        "    print(element_number)\n",
        "\n",
        "# Print out the keys and the values\n",
        "for (element_name, element_number) in atomic_number.items():\n",
        "    print(\"name:\", element_name, \"number:\", element_number)"
      ]
    },
    {
      "cell_type": "markdown",
      "metadata": {},
      "source": [
        "**Modifying** a dictionary"
      ]
    },
    {
      "cell_type": "code",
      "execution_count": null,
      "metadata": {},
      "outputs": [],
      "source": [
        "# Lets create a new dictionary mapping the species of the pet with the pet names!\n",
        "pet_names = {\n",
        "    \"Ducks\": [\"Duckula\", \"Howard\", \"Daffy\"],\n",
        "    \"Mice\": [\"Stuart\", \"Mickey\", \"Templeton\"],\n",
        "    \"Horses\": [\"Secretariat\", \"Black Beauty\"]\n",
        "}\n",
        "\n",
        "# Lets add to our dictionaries mapping\n",
        "pet_names[\"Rabbits\"] = [\"Peter\", \"Energizer\"]\n",
        "\n",
        "# Now lets changing the mapping of our dictionary\n",
        "pet_names[\"Horses\"] = [\"Misty\"] #Change mapping\n",
        "\n",
        "# Finally, lets remove mapping\n",
        "del pet_names[\"Mice\"]"
      ]
    },
    {
      "cell_type": "markdown",
      "metadata": {},
      "source": [
        "Lets work through some **dictionary exercises**"
      ]
    },
    {
      "cell_type": "code",
      "execution_count": null,
      "metadata": {},
      "outputs": [],
      "source": [
        "# What do you think this does?\n",
        "squares = {1: 1, 2: 4, 3: 9, 4: 16}\n",
        "print(squares[3] + squares[3])\n",
        "print(squares[3 + 3])\n",
        "print(squares[2] + squares[2])\n",
        "print(squares[2 + 2])"
      ]
    },
    {
      "cell_type": "code",
      "execution_count": null,
      "metadata": {},
      "outputs": [],
      "source": [
        "# How about converting a list to a dictionary?\n",
        "# E.g. Given [5, 6, 7], produce {5: 25, 6: 36, 7: 49}\n",
        "\n",
        "d = {}\n",
        "for i in [5, 6, 7]:    # or range(5, 8)\n",
        "    d[i] = i * i\n",
        "    \n",
        "k = {}\n",
        "for i in d.keys():\n",
        "     k[d[i]] = i"
      ]
    },
    {
      "cell_type": "markdown",
      "metadata": {},
      "source": [
        "Aside: A **list** is (kind of) like a **dictionary**"
      ]
    },
    {
      "cell_type": "code",
      "execution_count": null,
      "metadata": {},
      "outputs": [],
      "source": [
        "# Lists map integers using an index for each value\n",
        "mylist = ['a', 'b', 'c']\n",
        "mylist[3] = 'c'  # error!"
      ]
    },
    {
      "cell_type": "markdown",
      "metadata": {},
      "source": [
        "Lets stop and think...\n",
        "\n",
        "When is a list **more convenient** to use then a dictionary?\n",
        "\n",
        "When is a list **less convenient** to use then a dictionary?"
      ]
    },
    {
      "cell_type": "markdown",
      "metadata": {},
      "source": [
        "Lets dive into the specifics to **keys** for dictionaries"
      ]
    },
    {
      "cell_type": "markdown",
      "metadata": {},
      "source": [
        "Not every value is allowed to be a **key** in a **dictionary**"
      ]
    },
    {
      "cell_type": "markdown",
      "metadata": {},
      "source": [
        "Dictionaries hold key: value pairs\n",
        "\n",
        "as we mentioned earlier, the keys of a dictionary must be **immutable**, however the values in a dictionary can be **anything**."
      ]
    },
    {
      "cell_type": "markdown",
      "metadata": {},
      "source": [
        "**Mutable** and **immutable** data types"
      ]
    },
    {
      "cell_type": "markdown",
      "metadata": {},
      "source": [
        "**Immutable datatypes:**\n",
        "int, float, boolean, string, function, tuple, frozenset\n",
        "\n",
        "**Mutable datatypes:**\n",
        "list, dictionary, set\n"
      ]
    },
    {
      "cell_type": "code",
      "execution_count": null,
      "metadata": {},
      "outputs": [],
      "source": []
    },
    {
      "cell_type": "code",
      "execution_count": null,
      "metadata": {},
      "outputs": [],
      "source": []
    },
    {
      "cell_type": "markdown",
      "metadata": {},
      "source": [
        "### Reading data from a file \n",
        "\n",
        "- We'll usually work with data stored in the CSV format. CSV stands for \"comma-separated values.\"\n",
        "\n",
        "- We can read in a CSV using `pd.read_csv(...)`. Replace the `...` with a path to the CSV file relative to your notebook; if the file is in the same folder as your notebook, this is just the name of the file."
      ]
    },
    {
      "cell_type": "code",
      "execution_count": null,
      "metadata": {},
      "outputs": [],
      "source": [
        "# Our CSV file is stored not in the same folder as our notebook, \n",
        "# but within a folder called data.\n",
        "states = pd.read_csv('data/states.csv')\n",
        "states"
      ]
    },
    {
      "cell_type": "markdown",
      "metadata": {},
      "source": [
        "### About the data 🗽\n",
        "\n",
        "Most of the data is self-explanatory, but there are a few things to note:"
      ]
    },
    {
      "cell_type": "markdown",
      "metadata": {},
      "source": [
        "- `'Population'` figures come from the 2020 census."
      ]
    },
    {
      "cell_type": "markdown",
      "metadata": {},
      "source": [
        "- `'Land Area'` is measured in square miles."
      ]
    },
    {
      "cell_type": "markdown",
      "metadata": {},
      "source": [
        "- The `'Region'` column places each state in one of four regions, as determined by the US Census Bureau.\n",
        "\n",
        "<center>\n",
        "<img src='images/regions.png' width=600>\n",
        "</center>"
      ]
    },
    {
      "cell_type": "markdown",
      "metadata": {},
      "source": [
        "- The `'Party'` column classifies each state as `'Democratic'` or `'Republican'` based on a political science measurement called the Cook Partisan Voter Index. \n",
        "\n",
        "\n",
        "<center>\n",
        "<img src='images/party.png' width=600>\n",
        "</center>"
      ]
    },
    {
      "cell_type": "markdown",
      "metadata": {},
      "source": [
        "### Structure of a DataFrame\n",
        "\n",
        "- DataFrames have *columns* and *rows*.\n",
        "    - Think of each column as an array. Columns contain data of the same type.\n",
        "- Each column has a label, e.g. `'Capital City'` and `'Land Area'`.\n",
        "    - Column labels are stored as strings.\n",
        "- Each row has a label too – these are shown in bold at the start of the row.\n",
        "    - Right now, the row labels are 0, 1, 2, and so on.\n",
        "    - Together, the row labels are called the _index_. The index is **not** a column!\n",
        "    "
      ]
    },
    {
      "cell_type": "code",
      "execution_count": null,
      "metadata": {},
      "outputs": [],
      "source": [
        "# This DataFrame has 50 rows and 6 columns.\n",
        "states"
      ]
    },
    {
      "cell_type": "markdown",
      "metadata": {},
      "source": [
        "## Example 1: Population density\n",
        "\n",
        "**Key concepts**: Accessing columns, performing calculations with them, and adding new columns."
      ]
    },
    {
      "cell_type": "markdown",
      "metadata": {},
      "source": [
        "### Finding population density"
      ]
    },
    {
      "cell_type": "markdown",
      "metadata": {},
      "source": [
        "**Question**: What is the population density of each state, in people per square mile?"
      ]
    },
    {
      "cell_type": "code",
      "execution_count": null,
      "metadata": {},
      "outputs": [],
      "source": [
        "states"
      ]
    },
    {
      "cell_type": "markdown",
      "metadata": {},
      "source": [
        "- We have, separately, the population and land area of each state."
      ]
    },
    {
      "cell_type": "markdown",
      "metadata": {},
      "source": [
        "- Steps:\n",
        "    - Get the `'Population'` column.\n",
        "    - Get the `'Land Area'` column.\n",
        "    - Divide these columns element-wise.\n",
        "    - Add a new column to the DataFrame with these results."
      ]
    },
    {
      "cell_type": "markdown",
      "metadata": {},
      "source": [
        "#### Step 1 – Getting the `'Population'` column\n",
        "\n",
        "- We can get a column from a DataFrame using `.get(column_name)`.\n",
        "- Column names are case sensitive!\n",
        "- Column names are strings, so we need to use quotes.\n",
        "- The result looks like a 1-column DataFrame, but is actually a *Series*."
      ]
    },
    {
      "cell_type": "code",
      "execution_count": null,
      "metadata": {},
      "outputs": [],
      "source": [
        "states"
      ]
    },
    {
      "cell_type": "code",
      "execution_count": null,
      "metadata": {},
      "outputs": [],
      "source": [
        "states.get('Population')"
      ]
    },
    {
      "cell_type": "markdown",
      "metadata": {},
      "source": [
        "### Digression: Series\n",
        "\n",
        "- A *Series* is like an array, but with an index.\n",
        "- In particular, Series support arithmetic, just like arrays."
      ]
    },
    {
      "cell_type": "code",
      "execution_count": null,
      "metadata": {},
      "outputs": [],
      "source": [
        "states.get('Population')"
      ]
    },
    {
      "cell_type": "code",
      "execution_count": null,
      "metadata": {},
      "outputs": [],
      "source": [
        "type(states.get('Population'))"
      ]
    },
    {
      "cell_type": "markdown",
      "metadata": {},
      "source": [
        "#### Steps 2 and 3 – Getting the `'Land Area'` column and dividing element-wise"
      ]
    },
    {
      "cell_type": "code",
      "execution_count": null,
      "metadata": {},
      "outputs": [],
      "source": [
        "states.get('Land Area')"
      ]
    },
    {
      "cell_type": "markdown",
      "metadata": {},
      "source": [
        "- Just like with arrays, we can perform arithmetic operations with two Series, as long as they have the same length and same index. \n",
        "- Operations happen element-wise (by matching up corresponding index values), and the result is also a Series."
      ]
    },
    {
      "cell_type": "code",
      "execution_count": null,
      "metadata": {},
      "outputs": [],
      "source": [
        "states.get('Population') / states.get('Land Area')"
      ]
    },
    {
      "cell_type": "markdown",
      "metadata": {},
      "source": [
        "#### Step 4 – Adding the densities to the DataFrame as a new column\n",
        "\n",
        "- Use `.assign(name_of_column=data_in_series)` to assign a Series (or array, or list) to a DataFrame.\n",
        "- Don't put quotes around `name_of_column`.\n",
        "- This creates a new DataFrame, which we must save to a variable if we want to keep using it."
      ]
    },
    {
      "cell_type": "code",
      "execution_count": null,
      "metadata": {},
      "outputs": [],
      "source": [
        "states.assign(\n",
        "    Density=states.get('Population') / states.get('Land Area')\n",
        ")"
      ]
    },
    {
      "cell_type": "code",
      "execution_count": null,
      "metadata": {},
      "outputs": [],
      "source": [
        "states"
      ]
    },
    {
      "cell_type": "code",
      "execution_count": null,
      "metadata": {},
      "outputs": [],
      "source": [
        "states = states.assign(\n",
        "    Density=states.get('Population') / states.get('Land Area')\n",
        ")\n",
        "states"
      ]
    },
    {
      "cell_type": "markdown",
      "metadata": {},
      "source": [
        "## Example 2: Exploring population density\n",
        "**Key concept**: Computing statistics of columns using Series methods."
      ]
    },
    {
      "cell_type": "markdown",
      "metadata": {},
      "source": [
        "### Questions\n",
        "\n",
        "- What is the highest population density of any one state? \n",
        "- What is the average population density across all states?\n",
        "\n",
        "Series, like arrays, have helpful methods, including `.min()`, `.max()`, and `.mean()`."
      ]
    },
    {
      "cell_type": "code",
      "execution_count": null,
      "metadata": {},
      "outputs": [],
      "source": [
        "states.get('Density').max()"
      ]
    },
    {
      "cell_type": "markdown",
      "metadata": {},
      "source": [
        "What state does this correspond to? We'll see how to find out shortly!"
      ]
    },
    {
      "cell_type": "markdown",
      "metadata": {},
      "source": [
        "Other statistics:"
      ]
    },
    {
      "cell_type": "code",
      "execution_count": null,
      "metadata": {},
      "outputs": [],
      "source": [
        "states.get('Density').min()"
      ]
    },
    {
      "cell_type": "code",
      "execution_count": null,
      "metadata": {},
      "outputs": [],
      "source": [
        "states.get('Density').mean()"
      ]
    },
    {
      "cell_type": "code",
      "execution_count": null,
      "metadata": {},
      "outputs": [],
      "source": [
        "states.get('Density').median()"
      ]
    },
    {
      "cell_type": "code",
      "execution_count": null,
      "metadata": {},
      "outputs": [],
      "source": [
        "# Lots of information at once!\n",
        "states.get('Density').describe()"
      ]
    },
    {
      "cell_type": "markdown",
      "metadata": {},
      "source": [
        "## Example 3: *Which* state has the highest population density?\n",
        "\n",
        "**Key concepts**: Sorting. Accessing using integer positions."
      ]
    },
    {
      "cell_type": "markdown",
      "metadata": {},
      "source": [
        "#### Step 1  – Sorting the DataFrame\n",
        "\n",
        "- Use the `.sort_values(by=column_name)` method to sort.\n",
        "    - The `by=` can be omitted, but helps with readability.\n",
        "- Like most DataFrame methods, this returns a new DataFrame."
      ]
    },
    {
      "cell_type": "code",
      "execution_count": null,
      "metadata": {},
      "outputs": [],
      "source": [
        "states.sort_values(by='Density')"
      ]
    },
    {
      "cell_type": "markdown",
      "metadata": {},
      "source": [
        "This sorts, but in ascending order (small to large). The opposite would be nice!"
      ]
    },
    {
      "cell_type": "markdown",
      "metadata": {},
      "source": [
        "#### Step 1 – Sorting the DataFrame in *descending* order\n",
        "\n",
        "- Use `.sort_values(by=column_name, ascending=False)` to sort in *descending* order.\n",
        "- `ascending` is an optional argument. If omitted, it will be set to `True` by default.\n",
        "    - This is an example of a *keyword argument*, or a *named argument*.\n",
        "    - If we want to specify the sorting order, we **must** use the keyword `ascending=`."
      ]
    },
    {
      "cell_type": "code",
      "execution_count": null,
      "metadata": {},
      "outputs": [],
      "source": [
        "ordered_states = states.sort_values(by='Density', ascending=False)\n",
        "ordered_states"
      ]
    },
    {
      "cell_type": "code",
      "execution_count": null,
      "metadata": {},
      "outputs": [],
      "source": [
        "# We must specify the role of False by using ascending=, \n",
        "# otherwise Python does not know how to interpret this.\n",
        "states.sort_values(by='Density', False)"
      ]
    },
    {
      "cell_type": "markdown",
      "metadata": {},
      "source": [
        "#### Step 2 – Extracting the state name\n",
        "\n",
        "- We saw that the most densely populated state is New Jersey, but how do we extract that information using code?\n",
        "- First, grab an entire column as a Series.\n",
        "- Navigate to a particular entry of the Series using `.iloc[integer_position]`.\n",
        "    - `iloc` stands for \"integer location\" and is used to count the rows, starting at 0."
      ]
    },
    {
      "cell_type": "code",
      "execution_count": null,
      "metadata": {},
      "outputs": [],
      "source": [
        "ordered_states"
      ]
    },
    {
      "cell_type": "code",
      "execution_count": null,
      "metadata": {},
      "outputs": [],
      "source": [
        "ordered_states.get('State')"
      ]
    },
    {
      "cell_type": "code",
      "execution_count": null,
      "metadata": {},
      "outputs": [],
      "source": [
        "# We want the first entry of the Series, which is at \"integer location\" 0.\n",
        "ordered_states.get('State').iloc[0]"
      ]
    },
    {
      "cell_type": "markdown",
      "metadata": {},
      "source": [
        "- The row label that goes with New Jersey is 29, because our original data was alphabetized by state and New Jersey is the 30th state alphabetically. But we **don't use the row label** when accessing with `iloc`; we use the integer position counting from the top."
      ]
    },
    {
      "cell_type": "markdown",
      "metadata": {},
      "source": [
        "- If we try to use the row label (29) with `iloc`, we get the state with the 30th highest population density, which is **not** New Jersey."
      ]
    },
    {
      "cell_type": "code",
      "execution_count": null,
      "metadata": {},
      "outputs": [],
      "source": [
        "ordered_states.get('State').iloc[29]"
      ]
    },
    {
      "cell_type": "markdown",
      "metadata": {},
      "source": [
        "## Example 4: What is the population density of Pennsylvania?\n",
        "\n",
        "**Key concepts**: Setting the index. Accessing using row labels."
      ]
    },
    {
      "cell_type": "markdown",
      "metadata": {},
      "source": [
        "### Population density of Pennsylvania\n",
        "\n",
        "We know how to get the `'Density'` of all states. How do we find the one that corresponds to Pennsylvania?"
      ]
    },
    {
      "cell_type": "code",
      "execution_count": null,
      "metadata": {},
      "outputs": [],
      "source": [
        "states"
      ]
    },
    {
      "cell_type": "code",
      "execution_count": null,
      "metadata": {},
      "outputs": [],
      "source": [
        "# Which one is Pennsylvania?\n",
        "states.get('Density')"
      ]
    },
    {
      "cell_type": "markdown",
      "metadata": {},
      "source": [
        "### Utilizing the index"
      ]
    },
    {
      "cell_type": "markdown",
      "metadata": {},
      "source": [
        "- When we load in a DataFrame from a CSV, columns have meaningful names, but rows do not."
      ]
    },
    {
      "cell_type": "code",
      "execution_count": null,
      "metadata": {},
      "outputs": [],
      "source": [
        "pd.read_csv('data/states.csv')"
      ]
    },
    {
      "cell_type": "markdown",
      "metadata": {},
      "source": [
        "- The row labels (or the *index*) are how we refer to specific rows. Instead of using numbers, let's refer to these rows by the names of the states they correspond to."
      ]
    },
    {
      "cell_type": "markdown",
      "metadata": {},
      "source": [
        "- This way, we can easily identify, for example, which row corresponds to Pennsylvania."
      ]
    },
    {
      "cell_type": "markdown",
      "metadata": {},
      "source": [
        "### Setting the index\n",
        "\n",
        "- To change the index, use `.set_index(column_name)`.\n",
        "- Row labels should be unique identifiers.\n",
        "    - Each row should have a different, descriptive name that corresponds to the contents of that row's data."
      ]
    },
    {
      "cell_type": "code",
      "execution_count": null,
      "metadata": {},
      "outputs": [],
      "source": [
        "states"
      ]
    },
    {
      "cell_type": "code",
      "execution_count": null,
      "metadata": {},
      "outputs": [],
      "source": [
        "states.set_index('State')"
      ]
    },
    {
      "cell_type": "markdown",
      "metadata": {},
      "source": [
        "- Now there is one fewer column. When you set the index, a column becomes the index, and the old index disappears."
      ]
    },
    {
      "cell_type": "markdown",
      "metadata": {},
      "source": [
        "- 🚨 Like most DataFrame methods, `.set_index` returns a new DataFrame; it does not modify the original DataFrame."
      ]
    },
    {
      "cell_type": "code",
      "execution_count": null,
      "metadata": {},
      "outputs": [],
      "source": [
        "states"
      ]
    },
    {
      "cell_type": "code",
      "execution_count": null,
      "metadata": {},
      "outputs": [],
      "source": [
        "states = states.set_index('State')\n",
        "states"
      ]
    },
    {
      "cell_type": "code",
      "execution_count": null,
      "metadata": {},
      "outputs": [],
      "source": [
        "# Which one is Pennsylvania? The one whose row label is \"Pennsylvania\"!\n",
        "states.get('Density')"
      ]
    },
    {
      "cell_type": "markdown",
      "metadata": {},
      "source": [
        "### Accessing using the row label\n",
        "\n",
        "To pull out one particular entry of a DataFrame corresponding to a row and column with certain labels:\n",
        "1. Use `.get(column_name)` to extract the entire column as a Series.\n",
        "2. Use `.loc[]` to access the element of a Series with a particular row label.\n",
        "\n",
        "In this class, we'll always first access a column, then a row (but row, then column is also possible)."
      ]
    },
    {
      "cell_type": "code",
      "execution_count": null,
      "metadata": {},
      "outputs": [],
      "source": [
        "states.get('Density')"
      ]
    },
    {
      "cell_type": "code",
      "execution_count": null,
      "metadata": {},
      "outputs": [],
      "source": [
        "states.get('Density').loc['Pennsylvania']"
      ]
    },
    {
      "cell_type": "markdown",
      "metadata": {},
      "source": [
        "### Summary: Accessing elements of a DataFrame\n",
        "\n",
        "- First, `.get` the appropriate column as a Series.\n",
        "- Then, use one of two ways to access an element of a Series:\n",
        "    - `.iloc[]` uses the integer position.\n",
        "    - `.loc[]` uses the row label.\n",
        "    - Each is best for different scenarios."
      ]
    },
    {
      "cell_type": "code",
      "execution_count": null,
      "metadata": {},
      "outputs": [],
      "source": [
        "states.get('Density')"
      ]
    },
    {
      "cell_type": "code",
      "execution_count": null,
      "metadata": {},
      "outputs": [],
      "source": [
        "states.get('Density').iloc[4]"
      ]
    },
    {
      "cell_type": "code",
      "execution_count": null,
      "metadata": {},
      "outputs": [],
      "source": [
        "states.get('Density').loc['California']"
      ]
    },
    {
      "cell_type": "markdown",
      "metadata": {},
      "source": [
        "### Note\n",
        "\n",
        "- Sometimes the integer position and row label are the same.\n",
        "- This happens by default with `pd.read_csv`."
      ]
    },
    {
      "cell_type": "code",
      "execution_count": null,
      "metadata": {},
      "outputs": [],
      "source": [
        "pd.read_csv('data/states.csv')"
      ]
    },
    {
      "cell_type": "code",
      "execution_count": null,
      "metadata": {},
      "outputs": [],
      "source": [
        "pd.read_csv('data/states.csv').get('Capital City').loc[35]"
      ]
    },
    {
      "cell_type": "code",
      "execution_count": null,
      "metadata": {},
      "outputs": [],
      "source": [
        "pd.read_csv('data/states.csv').get('Capital City').iloc[35]"
      ]
    }
  ],
  "metadata": {
    "colab": {
      "provenance": []
    },
    "kernelspec": {
      "display_name": "base",
      "language": "python",
      "name": "python3"
    },
    "language_info": {
      "codemirror_mode": {
        "name": "ipython",
        "version": 3
      },
      "file_extension": ".py",
      "mimetype": "text/x-python",
      "name": "python",
      "nbconvert_exporter": "python",
      "pygments_lexer": "ipython3",
      "version": "3.12.10"
    }
  },
  "nbformat": 4,
  "nbformat_minor": 0
}
